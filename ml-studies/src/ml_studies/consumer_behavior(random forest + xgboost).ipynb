{
 "cells": [
  {
   "cell_type": "code",
   "execution_count": 306,
   "id": "85ef2f4f-c589-44ec-95d4-36f58a010ffc",
   "metadata": {},
   "outputs": [],
   "source": [
    "import pandas as pd\n",
    "from pandas.api.types import is_numeric_dtype\n",
    "import matplotlib.pyplot as plt\n",
    "import seaborn as sns\n",
    "from scipy.stats import normaltest\n",
    "from sklearn.model_selection import train_test_split, cross_validate, KFold, GridSearchCV\n",
    "from sklearn.ensemble import RandomForestRegressor\n",
    "from sklearn.metrics import mean_squared_error, mean_absolute_error, r2_score\n",
    "from sklearn.preprocessing import MinMaxScaler, LabelEncoder\n",
    "from sklearn.linear_model import LinearRegression\n",
    "import xgboost as xgb"
   ]
  },
  {
   "cell_type": "code",
   "execution_count": 201,
   "id": "3ccfe934-2b63-47c3-a875-0e2a110ffa9b",
   "metadata": {},
   "outputs": [],
   "source": [
    "from pathlib import Path"
   ]
  },
  {
   "cell_type": "code",
   "execution_count": 202,
   "id": "c86effd3-c8d8-4556-b380-866e0098dfcc",
   "metadata": {},
   "outputs": [
    {
     "name": "stdout",
     "output_type": "stream",
     "text": [
      "C:\\Users\\USER\\Desktop\\Python Projects\\ml-studies\\src\\ml_studies\n"
     ]
    }
   ],
   "source": [
    "print(Path.cwd())"
   ]
  },
  {
   "cell_type": "code",
   "execution_count": 203,
   "id": "1122fd69-9ff4-4539-b656-6bbe2649c814",
   "metadata": {},
   "outputs": [],
   "source": [
    "dataset_dir = Path.cwd()"
   ]
  },
  {
   "cell_type": "code",
   "execution_count": 204,
   "id": "649290c9-115d-4bff-ba83-06da2a5f5184",
   "metadata": {},
   "outputs": [],
   "source": [
    "csv_file_path = dataset_dir / \"datasets\" / \"Ecommerce_Consumer_Behavior_Analysis_Data.csv\""
   ]
  },
  {
   "cell_type": "code",
   "execution_count": 205,
   "id": "2536237c-9aba-4bbc-88e1-7ad7cbdd26aa",
   "metadata": {},
   "outputs": [],
   "source": [
    "df = pd.read_csv(csv_file_path)"
   ]
  },
  {
   "cell_type": "code",
   "execution_count": null,
   "id": "c1ac76d2-b7a8-44d4-929d-921ff2c2900b",
   "metadata": {},
   "outputs": [],
   "source": [
    "# General analysis of the dataset"
   ]
  },
  {
   "cell_type": "code",
   "execution_count": 247,
   "id": "8baf5d4b-2bda-44eb-8d93-35b49a77bb55",
   "metadata": {},
   "outputs": [
    {
     "data": {
      "text/html": [
       "<div>\n",
       "<style scoped>\n",
       "    .dataframe tbody tr th:only-of-type {\n",
       "        vertical-align: middle;\n",
       "    }\n",
       "\n",
       "    .dataframe tbody tr th {\n",
       "        vertical-align: top;\n",
       "    }\n",
       "\n",
       "    .dataframe thead th {\n",
       "        text-align: right;\n",
       "    }\n",
       "</style>\n",
       "<table border=\"1\" class=\"dataframe\">\n",
       "  <thead>\n",
       "    <tr style=\"text-align: right;\">\n",
       "      <th></th>\n",
       "      <th>Age</th>\n",
       "      <th>Gender</th>\n",
       "      <th>Income_Level</th>\n",
       "      <th>Marital_Status</th>\n",
       "      <th>Education_Level</th>\n",
       "      <th>Occupation</th>\n",
       "      <th>Purchase_Category</th>\n",
       "      <th>Purchase_Amount</th>\n",
       "      <th>Frequency_of_Purchase</th>\n",
       "      <th>Purchase_Channel</th>\n",
       "      <th>...</th>\n",
       "      <th>Customer_Satisfaction</th>\n",
       "      <th>Engagement_with_Ads</th>\n",
       "      <th>Device_Used_for_Shopping</th>\n",
       "      <th>Payment_Method</th>\n",
       "      <th>Time_of_Purchase</th>\n",
       "      <th>Discount_Used</th>\n",
       "      <th>Customer_Loyalty_Program_Member</th>\n",
       "      <th>Purchase_Intent</th>\n",
       "      <th>Shipping_Preference</th>\n",
       "      <th>Time_to_Decision</th>\n",
       "    </tr>\n",
       "  </thead>\n",
       "  <tbody>\n",
       "    <tr>\n",
       "      <th>0</th>\n",
       "      <td>22</td>\n",
       "      <td>Female</td>\n",
       "      <td>Middle</td>\n",
       "      <td>Married</td>\n",
       "      <td>Bachelor's</td>\n",
       "      <td>Middle</td>\n",
       "      <td>Gardening &amp; Outdoors</td>\n",
       "      <td>333.80</td>\n",
       "      <td>4</td>\n",
       "      <td>Mixed</td>\n",
       "      <td>...</td>\n",
       "      <td>7</td>\n",
       "      <td>NaN</td>\n",
       "      <td>Tablet</td>\n",
       "      <td>Credit Card</td>\n",
       "      <td>3/1/2024</td>\n",
       "      <td>True</td>\n",
       "      <td>False</td>\n",
       "      <td>Need-based</td>\n",
       "      <td>No Preference</td>\n",
       "      <td>2</td>\n",
       "    </tr>\n",
       "    <tr>\n",
       "      <th>1</th>\n",
       "      <td>49</td>\n",
       "      <td>Male</td>\n",
       "      <td>High</td>\n",
       "      <td>Married</td>\n",
       "      <td>High School</td>\n",
       "      <td>High</td>\n",
       "      <td>Food &amp; Beverages</td>\n",
       "      <td>222.22</td>\n",
       "      <td>11</td>\n",
       "      <td>In-Store</td>\n",
       "      <td>...</td>\n",
       "      <td>5</td>\n",
       "      <td>High</td>\n",
       "      <td>Tablet</td>\n",
       "      <td>PayPal</td>\n",
       "      <td>4/16/2024</td>\n",
       "      <td>True</td>\n",
       "      <td>False</td>\n",
       "      <td>Wants-based</td>\n",
       "      <td>Standard</td>\n",
       "      <td>6</td>\n",
       "    </tr>\n",
       "    <tr>\n",
       "      <th>2</th>\n",
       "      <td>24</td>\n",
       "      <td>Female</td>\n",
       "      <td>Middle</td>\n",
       "      <td>Single</td>\n",
       "      <td>Master's</td>\n",
       "      <td>High</td>\n",
       "      <td>Office Supplies</td>\n",
       "      <td>426.22</td>\n",
       "      <td>2</td>\n",
       "      <td>Mixed</td>\n",
       "      <td>...</td>\n",
       "      <td>7</td>\n",
       "      <td>Low</td>\n",
       "      <td>Smartphone</td>\n",
       "      <td>Debit Card</td>\n",
       "      <td>3/15/2024</td>\n",
       "      <td>True</td>\n",
       "      <td>True</td>\n",
       "      <td>Impulsive</td>\n",
       "      <td>No Preference</td>\n",
       "      <td>3</td>\n",
       "    </tr>\n",
       "    <tr>\n",
       "      <th>3</th>\n",
       "      <td>29</td>\n",
       "      <td>Female</td>\n",
       "      <td>Middle</td>\n",
       "      <td>Single</td>\n",
       "      <td>Master's</td>\n",
       "      <td>Middle</td>\n",
       "      <td>Home Appliances</td>\n",
       "      <td>101.31</td>\n",
       "      <td>6</td>\n",
       "      <td>Mixed</td>\n",
       "      <td>...</td>\n",
       "      <td>1</td>\n",
       "      <td>NaN</td>\n",
       "      <td>Smartphone</td>\n",
       "      <td>Other</td>\n",
       "      <td>10/4/2024</td>\n",
       "      <td>True</td>\n",
       "      <td>True</td>\n",
       "      <td>Need-based</td>\n",
       "      <td>Express</td>\n",
       "      <td>10</td>\n",
       "    </tr>\n",
       "    <tr>\n",
       "      <th>4</th>\n",
       "      <td>33</td>\n",
       "      <td>Female</td>\n",
       "      <td>Middle</td>\n",
       "      <td>Widowed</td>\n",
       "      <td>High School</td>\n",
       "      <td>Middle</td>\n",
       "      <td>Furniture</td>\n",
       "      <td>211.70</td>\n",
       "      <td>6</td>\n",
       "      <td>Mixed</td>\n",
       "      <td>...</td>\n",
       "      <td>10</td>\n",
       "      <td>NaN</td>\n",
       "      <td>Smartphone</td>\n",
       "      <td>Debit Card</td>\n",
       "      <td>1/30/2024</td>\n",
       "      <td>False</td>\n",
       "      <td>False</td>\n",
       "      <td>Wants-based</td>\n",
       "      <td>No Preference</td>\n",
       "      <td>4</td>\n",
       "    </tr>\n",
       "  </tbody>\n",
       "</table>\n",
       "<p>5 rows × 26 columns</p>\n",
       "</div>"
      ],
      "text/plain": [
       "   Age  Gender Income_Level Marital_Status Education_Level Occupation  \\\n",
       "0   22  Female       Middle        Married      Bachelor's     Middle   \n",
       "1   49    Male         High        Married     High School       High   \n",
       "2   24  Female       Middle         Single        Master's       High   \n",
       "3   29  Female       Middle         Single        Master's     Middle   \n",
       "4   33  Female       Middle        Widowed     High School     Middle   \n",
       "\n",
       "      Purchase_Category  Purchase_Amount  Frequency_of_Purchase  \\\n",
       "0  Gardening & Outdoors           333.80                      4   \n",
       "1      Food & Beverages           222.22                     11   \n",
       "2       Office Supplies           426.22                      2   \n",
       "3       Home Appliances           101.31                      6   \n",
       "4             Furniture           211.70                      6   \n",
       "\n",
       "  Purchase_Channel  ...  Customer_Satisfaction  Engagement_with_Ads  \\\n",
       "0            Mixed  ...                      7                  NaN   \n",
       "1         In-Store  ...                      5                 High   \n",
       "2            Mixed  ...                      7                  Low   \n",
       "3            Mixed  ...                      1                  NaN   \n",
       "4            Mixed  ...                     10                  NaN   \n",
       "\n",
       "   Device_Used_for_Shopping Payment_Method Time_of_Purchase  Discount_Used  \\\n",
       "0                    Tablet    Credit Card         3/1/2024           True   \n",
       "1                    Tablet         PayPal        4/16/2024           True   \n",
       "2                Smartphone     Debit Card        3/15/2024           True   \n",
       "3                Smartphone          Other        10/4/2024           True   \n",
       "4                Smartphone     Debit Card        1/30/2024          False   \n",
       "\n",
       "   Customer_Loyalty_Program_Member Purchase_Intent Shipping_Preference  \\\n",
       "0                            False      Need-based       No Preference   \n",
       "1                            False     Wants-based            Standard   \n",
       "2                             True       Impulsive       No Preference   \n",
       "3                             True      Need-based             Express   \n",
       "4                            False     Wants-based       No Preference   \n",
       "\n",
       "  Time_to_Decision  \n",
       "0                2  \n",
       "1                6  \n",
       "2                3  \n",
       "3               10  \n",
       "4                4  \n",
       "\n",
       "[5 rows x 26 columns]"
      ]
     },
     "execution_count": 247,
     "metadata": {},
     "output_type": "execute_result"
    }
   ],
   "source": [
    "df.head()"
   ]
  },
  {
   "cell_type": "code",
   "execution_count": 248,
   "id": "bcca19a6-50c3-4059-af8f-a55e1ac130f5",
   "metadata": {},
   "outputs": [
    {
     "data": {
      "text/html": [
       "<div>\n",
       "<style scoped>\n",
       "    .dataframe tbody tr th:only-of-type {\n",
       "        vertical-align: middle;\n",
       "    }\n",
       "\n",
       "    .dataframe tbody tr th {\n",
       "        vertical-align: top;\n",
       "    }\n",
       "\n",
       "    .dataframe thead th {\n",
       "        text-align: right;\n",
       "    }\n",
       "</style>\n",
       "<table border=\"1\" class=\"dataframe\">\n",
       "  <thead>\n",
       "    <tr style=\"text-align: right;\">\n",
       "      <th></th>\n",
       "      <th>Age</th>\n",
       "      <th>Gender</th>\n",
       "      <th>Income_Level</th>\n",
       "      <th>Marital_Status</th>\n",
       "      <th>Education_Level</th>\n",
       "      <th>Occupation</th>\n",
       "      <th>Purchase_Category</th>\n",
       "      <th>Purchase_Amount</th>\n",
       "      <th>Frequency_of_Purchase</th>\n",
       "      <th>Purchase_Channel</th>\n",
       "      <th>...</th>\n",
       "      <th>Customer_Satisfaction</th>\n",
       "      <th>Engagement_with_Ads</th>\n",
       "      <th>Device_Used_for_Shopping</th>\n",
       "      <th>Payment_Method</th>\n",
       "      <th>Time_of_Purchase</th>\n",
       "      <th>Discount_Used</th>\n",
       "      <th>Customer_Loyalty_Program_Member</th>\n",
       "      <th>Purchase_Intent</th>\n",
       "      <th>Shipping_Preference</th>\n",
       "      <th>Time_to_Decision</th>\n",
       "    </tr>\n",
       "  </thead>\n",
       "  <tbody>\n",
       "    <tr>\n",
       "      <th>995</th>\n",
       "      <td>44</td>\n",
       "      <td>Female</td>\n",
       "      <td>High</td>\n",
       "      <td>Divorced</td>\n",
       "      <td>Bachelor's</td>\n",
       "      <td>High</td>\n",
       "      <td>Mobile Accessories</td>\n",
       "      <td>463.67</td>\n",
       "      <td>5</td>\n",
       "      <td>Online</td>\n",
       "      <td>...</td>\n",
       "      <td>4</td>\n",
       "      <td>NaN</td>\n",
       "      <td>Tablet</td>\n",
       "      <td>PayPal</td>\n",
       "      <td>7/7/2024</td>\n",
       "      <td>True</td>\n",
       "      <td>False</td>\n",
       "      <td>Need-based</td>\n",
       "      <td>Standard</td>\n",
       "      <td>5</td>\n",
       "    </tr>\n",
       "    <tr>\n",
       "      <th>996</th>\n",
       "      <td>50</td>\n",
       "      <td>Female</td>\n",
       "      <td>High</td>\n",
       "      <td>Single</td>\n",
       "      <td>High School</td>\n",
       "      <td>Middle</td>\n",
       "      <td>Gardening &amp; Outdoors</td>\n",
       "      <td>69.78</td>\n",
       "      <td>9</td>\n",
       "      <td>Mixed</td>\n",
       "      <td>...</td>\n",
       "      <td>6</td>\n",
       "      <td>Low</td>\n",
       "      <td>Tablet</td>\n",
       "      <td>Cash</td>\n",
       "      <td>3/28/2024</td>\n",
       "      <td>True</td>\n",
       "      <td>False</td>\n",
       "      <td>Wants-based</td>\n",
       "      <td>No Preference</td>\n",
       "      <td>9</td>\n",
       "    </tr>\n",
       "    <tr>\n",
       "      <th>997</th>\n",
       "      <td>26</td>\n",
       "      <td>Male</td>\n",
       "      <td>High</td>\n",
       "      <td>Married</td>\n",
       "      <td>Bachelor's</td>\n",
       "      <td>High</td>\n",
       "      <td>Food &amp; Beverages</td>\n",
       "      <td>453.37</td>\n",
       "      <td>10</td>\n",
       "      <td>Mixed</td>\n",
       "      <td>...</td>\n",
       "      <td>6</td>\n",
       "      <td>High</td>\n",
       "      <td>Desktop</td>\n",
       "      <td>Credit Card</td>\n",
       "      <td>3/11/2024</td>\n",
       "      <td>True</td>\n",
       "      <td>True</td>\n",
       "      <td>Wants-based</td>\n",
       "      <td>Express</td>\n",
       "      <td>9</td>\n",
       "    </tr>\n",
       "    <tr>\n",
       "      <th>998</th>\n",
       "      <td>21</td>\n",
       "      <td>Female</td>\n",
       "      <td>High</td>\n",
       "      <td>Widowed</td>\n",
       "      <td>Bachelor's</td>\n",
       "      <td>Middle</td>\n",
       "      <td>Baby Products</td>\n",
       "      <td>106.15</td>\n",
       "      <td>12</td>\n",
       "      <td>In-Store</td>\n",
       "      <td>...</td>\n",
       "      <td>5</td>\n",
       "      <td>Medium</td>\n",
       "      <td>Desktop</td>\n",
       "      <td>Cash</td>\n",
       "      <td>3/30/2024</td>\n",
       "      <td>True</td>\n",
       "      <td>True</td>\n",
       "      <td>Impulsive</td>\n",
       "      <td>Standard</td>\n",
       "      <td>8</td>\n",
       "    </tr>\n",
       "    <tr>\n",
       "      <th>999</th>\n",
       "      <td>21</td>\n",
       "      <td>Female</td>\n",
       "      <td>Middle</td>\n",
       "      <td>Single</td>\n",
       "      <td>High School</td>\n",
       "      <td>High</td>\n",
       "      <td>Health Care</td>\n",
       "      <td>378.47</td>\n",
       "      <td>6</td>\n",
       "      <td>Online</td>\n",
       "      <td>...</td>\n",
       "      <td>10</td>\n",
       "      <td>Low</td>\n",
       "      <td>Tablet</td>\n",
       "      <td>Other</td>\n",
       "      <td>12/8/2024</td>\n",
       "      <td>False</td>\n",
       "      <td>False</td>\n",
       "      <td>Planned</td>\n",
       "      <td>Express</td>\n",
       "      <td>2</td>\n",
       "    </tr>\n",
       "  </tbody>\n",
       "</table>\n",
       "<p>5 rows × 26 columns</p>\n",
       "</div>"
      ],
      "text/plain": [
       "     Age  Gender Income_Level Marital_Status Education_Level Occupation  \\\n",
       "995   44  Female         High       Divorced      Bachelor's       High   \n",
       "996   50  Female         High         Single     High School     Middle   \n",
       "997   26    Male         High        Married      Bachelor's       High   \n",
       "998   21  Female         High        Widowed      Bachelor's     Middle   \n",
       "999   21  Female       Middle         Single     High School       High   \n",
       "\n",
       "        Purchase_Category  Purchase_Amount  Frequency_of_Purchase  \\\n",
       "995    Mobile Accessories           463.67                      5   \n",
       "996  Gardening & Outdoors            69.78                      9   \n",
       "997      Food & Beverages           453.37                     10   \n",
       "998         Baby Products           106.15                     12   \n",
       "999           Health Care           378.47                      6   \n",
       "\n",
       "    Purchase_Channel  ...  Customer_Satisfaction  Engagement_with_Ads  \\\n",
       "995           Online  ...                      4                  NaN   \n",
       "996            Mixed  ...                      6                  Low   \n",
       "997            Mixed  ...                      6                 High   \n",
       "998         In-Store  ...                      5               Medium   \n",
       "999           Online  ...                     10                  Low   \n",
       "\n",
       "     Device_Used_for_Shopping Payment_Method Time_of_Purchase  Discount_Used  \\\n",
       "995                    Tablet         PayPal         7/7/2024           True   \n",
       "996                    Tablet           Cash        3/28/2024           True   \n",
       "997                   Desktop    Credit Card        3/11/2024           True   \n",
       "998                   Desktop           Cash        3/30/2024           True   \n",
       "999                    Tablet          Other        12/8/2024          False   \n",
       "\n",
       "     Customer_Loyalty_Program_Member Purchase_Intent Shipping_Preference  \\\n",
       "995                            False      Need-based            Standard   \n",
       "996                            False     Wants-based       No Preference   \n",
       "997                             True     Wants-based             Express   \n",
       "998                             True       Impulsive            Standard   \n",
       "999                            False         Planned             Express   \n",
       "\n",
       "    Time_to_Decision  \n",
       "995                5  \n",
       "996                9  \n",
       "997                9  \n",
       "998                8  \n",
       "999                2  \n",
       "\n",
       "[5 rows x 26 columns]"
      ]
     },
     "execution_count": 248,
     "metadata": {},
     "output_type": "execute_result"
    }
   ],
   "source": [
    "df.tail()"
   ]
  },
  {
   "cell_type": "code",
   "execution_count": 258,
   "id": "79949cc3-b9bb-430f-beab-57427c5ee2e4",
   "metadata": {},
   "outputs": [
    {
     "data": {
      "text/plain": [
       "(1000, 26)"
      ]
     },
     "execution_count": 258,
     "metadata": {},
     "output_type": "execute_result"
    }
   ],
   "source": [
    "df.shape"
   ]
  },
  {
   "cell_type": "code",
   "execution_count": 257,
   "id": "b591cddf-b5df-45f1-857b-3e46dc014a16",
   "metadata": {},
   "outputs": [
    {
     "name": "stdout",
     "output_type": "stream",
     "text": [
      "<class 'pandas.core.frame.DataFrame'>\n",
      "RangeIndex: 1000 entries, 0 to 999\n",
      "Data columns (total 26 columns):\n",
      " #   Column                                 Non-Null Count  Dtype  \n",
      "---  ------                                 --------------  -----  \n",
      " 0   Age                                    1000 non-null   int64  \n",
      " 1   Gender                                 1000 non-null   object \n",
      " 2   Income_Level                           1000 non-null   object \n",
      " 3   Marital_Status                         1000 non-null   object \n",
      " 4   Education_Level                        1000 non-null   object \n",
      " 5   Occupation                             1000 non-null   object \n",
      " 6   Purchase_Category                      1000 non-null   object \n",
      " 7   Purchase_Amount                        1000 non-null   float64\n",
      " 8   Frequency_of_Purchase                  1000 non-null   int64  \n",
      " 9   Purchase_Channel                       1000 non-null   object \n",
      " 10  Brand_Loyalty                          1000 non-null   int64  \n",
      " 11  Product_Rating                         1000 non-null   int64  \n",
      " 12  Time_Spent_on_Product_Research(hours)  1000 non-null   float64\n",
      " 13  Social_Media_Influence                 753 non-null    object \n",
      " 14  Discount_Sensitivity                   1000 non-null   object \n",
      " 15  Return_Rate                            1000 non-null   int64  \n",
      " 16  Customer_Satisfaction                  1000 non-null   int64  \n",
      " 17  Engagement_with_Ads                    744 non-null    object \n",
      " 18  Device_Used_for_Shopping               1000 non-null   object \n",
      " 19  Payment_Method                         1000 non-null   object \n",
      " 20  Time_of_Purchase                       1000 non-null   object \n",
      " 21  Discount_Used                          1000 non-null   bool   \n",
      " 22  Customer_Loyalty_Program_Member        1000 non-null   bool   \n",
      " 23  Purchase_Intent                        1000 non-null   object \n",
      " 24  Shipping_Preference                    1000 non-null   object \n",
      " 25  Time_to_Decision                       1000 non-null   int64  \n",
      "dtypes: bool(2), float64(2), int64(7), object(15)\n",
      "memory usage: 189.6+ KB\n"
     ]
    }
   ],
   "source": [
    "df.info()"
   ]
  },
  {
   "cell_type": "code",
   "execution_count": 251,
   "id": "038b2cbc-ea04-427c-bca8-6c40ad5df8bb",
   "metadata": {},
   "outputs": [
    {
     "data": {
      "text/plain": [
       "np.int64(436)"
      ]
     },
     "execution_count": 251,
     "metadata": {},
     "output_type": "execute_result"
    }
   ],
   "source": [
    "df.isna().any(axis=1).sum()"
   ]
  },
  {
   "cell_type": "code",
   "execution_count": 254,
   "id": "e8ac8ad9-d8aa-4b80-8c13-a1a5f03a1ad3",
   "metadata": {},
   "outputs": [
    {
     "data": {
      "text/plain": [
       "Age                                        0\n",
       "Gender                                     0\n",
       "Income_Level                               0\n",
       "Marital_Status                             0\n",
       "Education_Level                            0\n",
       "Occupation                                 0\n",
       "Purchase_Category                          0\n",
       "Purchase_Amount                            0\n",
       "Frequency_of_Purchase                      0\n",
       "Purchase_Channel                           0\n",
       "Brand_Loyalty                              0\n",
       "Product_Rating                             0\n",
       "Time_Spent_on_Product_Research(hours)      0\n",
       "Social_Media_Influence                   247\n",
       "Discount_Sensitivity                       0\n",
       "Return_Rate                                0\n",
       "Customer_Satisfaction                      0\n",
       "Engagement_with_Ads                      256\n",
       "Device_Used_for_Shopping                   0\n",
       "Payment_Method                             0\n",
       "Time_of_Purchase                           0\n",
       "Discount_Used                              0\n",
       "Customer_Loyalty_Program_Member            0\n",
       "Purchase_Intent                            0\n",
       "Shipping_Preference                        0\n",
       "Time_to_Decision                           0\n",
       "dtype: int64"
      ]
     },
     "execution_count": 254,
     "metadata": {},
     "output_type": "execute_result"
    }
   ],
   "source": [
    "df.isnull().sum()"
   ]
  },
  {
   "cell_type": "code",
   "execution_count": 252,
   "id": "8e306c5a-e39c-4aee-a58d-4510a7de5785",
   "metadata": {},
   "outputs": [
    {
     "data": {
      "text/plain": [
       "['Social_Media_Influence', 'Engagement_with_Ads']"
      ]
     },
     "execution_count": 252,
     "metadata": {},
     "output_type": "execute_result"
    }
   ],
   "source": [
    "df.columns[df.isna().any()].tolist()"
   ]
  },
  {
   "cell_type": "code",
   "execution_count": 260,
   "id": "d36378e2-54ed-4a1a-b1c7-3542d0aef31b",
   "metadata": {},
   "outputs": [
    {
     "data": {
      "text/plain": [
       "Index(['Age', 'Gender', 'Income_Level', 'Marital_Status', 'Education_Level',\n",
       "       'Occupation', 'Purchase_Category', 'Purchase_Amount',\n",
       "       'Frequency_of_Purchase', 'Purchase_Channel', 'Brand_Loyalty',\n",
       "       'Product_Rating', 'Time_Spent_on_Product_Research(hours)',\n",
       "       'Social_Media_Influence', 'Discount_Sensitivity', 'Return_Rate',\n",
       "       'Customer_Satisfaction', 'Engagement_with_Ads',\n",
       "       'Device_Used_for_Shopping', 'Payment_Method', 'Time_of_Purchase',\n",
       "       'Discount_Used', 'Customer_Loyalty_Program_Member', 'Purchase_Intent',\n",
       "       'Shipping_Preference', 'Time_to_Decision'],\n",
       "      dtype='object')"
      ]
     },
     "execution_count": 260,
     "metadata": {},
     "output_type": "execute_result"
    }
   ],
   "source": [
    "df.columns"
   ]
  },
  {
   "cell_type": "code",
   "execution_count": 212,
   "id": "84ce2a32-96c0-4333-bdb6-dc6bf166682d",
   "metadata": {},
   "outputs": [
    {
     "name": "stdout",
     "output_type": "stream",
     "text": [
      " Column type: object\n",
      " Column: Customer_ID\n",
      "00-107-4749    1\n",
      "00-149-4481    1\n",
      "00-264-3797    1\n",
      "00-265-0556    1\n",
      "00-275-9990    1\n",
      "              ..\n",
      "99-509-4653    1\n",
      "99-581-5577    1\n",
      "99-643-9845    1\n",
      "99-771-9310    1\n",
      "99-945-7193    1\n",
      "Name: count, Length: 1000, dtype: int64\n",
      "________\n",
      " Column type: int64\n",
      " Column: Age\n",
      "18    20\n",
      "19    32\n",
      "20    19\n",
      "21    35\n",
      "22    19\n",
      "23    33\n",
      "24    32\n",
      "25    32\n",
      "26    34\n",
      "27    43\n",
      "28    24\n",
      "29    37\n",
      "30    27\n",
      "31    27\n",
      "32    30\n",
      "33    26\n",
      "34    30\n",
      "35    30\n",
      "36    31\n",
      "37    38\n",
      "38    33\n",
      "39    27\n",
      "40    38\n",
      "41    30\n",
      "42    34\n",
      "43    27\n",
      "44    29\n",
      "45    33\n",
      "46    27\n",
      "47    27\n",
      "48    27\n",
      "49    35\n",
      "50    34\n",
      "Name: count, dtype: int64\n",
      "________\n",
      " Column type: object\n",
      " Column: Gender\n",
      "Agender         19\n",
      "Bigender        20\n",
      "Female         452\n",
      "Genderfluid     17\n",
      "Genderqueer     12\n",
      "Male           449\n",
      "Non-binary      16\n",
      "Polygender      15\n",
      "Name: count, dtype: int64\n",
      "________\n",
      " Column type: object\n",
      " Column: Income_Level\n",
      "High      515\n",
      "Middle    485\n",
      "Name: count, dtype: int64\n",
      "________\n",
      " Column type: object\n",
      " Column: Marital_Status\n",
      "Divorced    245\n",
      "Married     253\n",
      "Single      242\n",
      "Widowed     260\n",
      "Name: count, dtype: int64\n",
      "________\n",
      " Column type: object\n",
      " Column: Education_Level\n",
      "Bachelor's     341\n",
      "High School    331\n",
      "Master's       328\n",
      "Name: count, dtype: int64\n",
      "________\n",
      " Column type: object\n",
      " Column: Occupation\n",
      "High      517\n",
      "Middle    483\n",
      "Name: count, dtype: int64\n",
      "________\n",
      " Column type: object\n",
      " Column: Location\n",
      "Abaetetuba                1\n",
      "Abaeté                    1\n",
      "Abiko                     1\n",
      "Acheng                    1\n",
      "Acobambilla               1\n",
      "                         ..\n",
      "Ḩabābah                   1\n",
      "Ḩabīl al Jabr             1\n",
      "Ḩawallī                   1\n",
      "‘Arad                     1\n",
      "‘Aşīrah ash Shamālīyah    1\n",
      "Name: count, Length: 969, dtype: int64\n",
      "________\n",
      " Column type: object\n",
      " Column: Purchase_Category\n",
      "Animal Feed                  44\n",
      "Arts & Crafts                34\n",
      "Baby Products                41\n",
      "Beauty & Personal Care       34\n",
      "Books                        37\n",
      "Clothing                     30\n",
      "Electronics                  54\n",
      "Food & Beverages             44\n",
      "Furniture                    41\n",
      "Gardening & Outdoors         44\n",
      "Groceries                    41\n",
      "Health Care                  41\n",
      "Health Supplements           41\n",
      "Home Appliances              50\n",
      "Hotels                       36\n",
      "Jewelry & Accessories        50\n",
      "Luxury Goods                 37\n",
      "Mobile Accessories           41\n",
      "Office Supplies              38\n",
      "Packages)                    43\n",
      "Software & Apps              43\n",
      "Sports & Outdoors            51\n",
      "Toys & Games                 47\n",
      "Travel & Leisure (Flights    38\n",
      "Name: count, dtype: int64\n",
      "________\n",
      " Column type: object\n",
      " Column: Purchase_Amount\n",
      "$100.32     1\n",
      "$101.29     1\n",
      "$101.31     1\n",
      "$101.70     1\n",
      "$102.09     1\n",
      "           ..\n",
      "$96.86      1\n",
      "$97.97      1\n",
      "$98.02      1\n",
      "$98.63      1\n",
      "$98.97      1\n",
      "Name: count, Length: 989, dtype: int64\n",
      "________\n",
      " Column type: int64\n",
      " Column: Frequency_of_Purchase\n",
      "2      94\n",
      "3      92\n",
      "4      89\n",
      "5      86\n",
      "6      97\n",
      "7     110\n",
      "8      76\n",
      "9      83\n",
      "10     97\n",
      "11     94\n",
      "12     82\n",
      "Name: count, dtype: int64\n",
      "________\n",
      " Column type: object\n",
      " Column: Purchase_Channel\n",
      "In-Store    326\n",
      "Mixed       340\n",
      "Online      334\n",
      "Name: count, dtype: int64\n",
      "________\n",
      " Column type: int64\n",
      " Column: Brand_Loyalty\n",
      "1    196\n",
      "2    194\n",
      "3    206\n",
      "4    196\n",
      "5    208\n",
      "Name: count, dtype: int64\n",
      "________\n",
      " Column type: int64\n",
      " Column: Product_Rating\n",
      "1    205\n",
      "2    189\n",
      "3    185\n",
      "4    210\n",
      "5    211\n",
      "Name: count, dtype: int64\n",
      "________\n",
      " Column type: float64\n",
      " Column: Time_Spent_on_Product_Research(hours)\n",
      "0.00    286\n",
      "0.20      9\n",
      "0.25      2\n",
      "0.30     19\n",
      "0.33      1\n",
      "0.50      4\n",
      "0.70      1\n",
      "1.00    350\n",
      "1.20      2\n",
      "1.30      2\n",
      "1.50      2\n",
      "2.00    322\n",
      "Name: count, dtype: int64\n",
      "________\n",
      " Column type: object\n",
      " Column: Social_Media_Influence\n",
      "High      268\n",
      "Low       249\n",
      "Medium    236\n",
      "Name: count, dtype: int64\n",
      "________\n",
      " Column type: object\n",
      " Column: Discount_Sensitivity\n",
      "Not Sensitive         331\n",
      "Somewhat Sensitive    319\n",
      "Very Sensitive        350\n",
      "Name: count, dtype: int64\n",
      "________\n",
      " Column type: int64\n",
      " Column: Return_Rate\n",
      "0    352\n",
      "1    342\n",
      "2    306\n",
      "Name: count, dtype: int64\n",
      "________\n",
      " Column type: int64\n",
      " Column: Customer_Satisfaction\n",
      "1     111\n",
      "2     100\n",
      "3     104\n",
      "4      99\n",
      "5      87\n",
      "6     109\n",
      "7     101\n",
      "8     102\n",
      "9     102\n",
      "10     85\n",
      "Name: count, dtype: int64\n",
      "________\n",
      " Column type: object\n",
      " Column: Engagement_with_Ads\n",
      "High      270\n",
      "Low       230\n",
      "Medium    244\n",
      "Name: count, dtype: int64\n",
      "________\n",
      " Column type: object\n",
      " Column: Device_Used_for_Shopping\n",
      "Desktop       350\n",
      "Smartphone    311\n",
      "Tablet        339\n",
      "Name: count, dtype: int64\n",
      "________\n",
      " Column type: object\n",
      " Column: Payment_Method\n",
      "Cash           187\n",
      "Credit Card    194\n",
      "Debit Card     196\n",
      "Other          204\n",
      "PayPal         219\n",
      "Name: count, dtype: int64\n",
      "________\n",
      " Column type: object\n",
      " Column: Time_of_Purchase\n",
      "1/1/2024     1\n",
      "1/10/2024    3\n",
      "1/11/2024    3\n",
      "1/12/2024    3\n",
      "1/13/2024    3\n",
      "            ..\n",
      "9/5/2024     5\n",
      "9/6/2024     1\n",
      "9/7/2024     1\n",
      "9/8/2024     1\n",
      "9/9/2024     3\n",
      "Name: count, Length: 344, dtype: int64\n",
      "________\n",
      " Column type: bool\n",
      " Column: Discount_Used\n",
      "False    479\n",
      "True     521\n",
      "Name: count, dtype: int64\n",
      "________\n",
      " Column type: bool\n",
      " Column: Customer_Loyalty_Program_Member\n",
      "False    509\n",
      "True     491\n",
      "Name: count, dtype: int64\n",
      "________\n",
      " Column type: object\n",
      " Column: Purchase_Intent\n",
      "Impulsive      248\n",
      "Need-based     256\n",
      "Planned        247\n",
      "Wants-based    249\n",
      "Name: count, dtype: int64\n",
      "________\n",
      " Column type: object\n",
      " Column: Shipping_Preference\n",
      "Express          294\n",
      "No Preference    372\n",
      "Standard         334\n",
      "Name: count, dtype: int64\n",
      "________\n",
      " Column type: int64\n",
      " Column: Time_to_Decision\n",
      "1     86\n",
      "2     48\n",
      "3     81\n",
      "4     65\n",
      "5     59\n",
      "6     72\n",
      "7     84\n",
      "8     83\n",
      "9     58\n",
      "10    76\n",
      "11    75\n",
      "12    64\n",
      "13    78\n",
      "14    71\n",
      "Name: count, dtype: int64\n",
      "________\n"
     ]
    }
   ],
   "source": [
    "for column in df.columns:\n",
    "    print(f\" Column type: {df[column].dtypes}\")\n",
    "    print(f\" Column: {df[column].value_counts().sort_index()}\")\n",
    "    print(\"________\")\n",
    "    "
   ]
  },
  {
   "cell_type": "code",
   "execution_count": null,
   "id": "135eb736-3344-4bf9-a6fe-b1acc6a90f84",
   "metadata": {},
   "outputs": [],
   "source": [
    "# Removes useless columns"
   ]
  },
  {
   "cell_type": "code",
   "execution_count": 213,
   "id": "a4cfb3e2-d1bb-4a5f-9e53-2d6859979247",
   "metadata": {},
   "outputs": [],
   "source": [
    "df = df.drop(columns=['Customer_ID', 'Location'])"
   ]
  },
  {
   "cell_type": "code",
   "execution_count": 261,
   "id": "46450a1b-5cd9-48c5-a8f2-f30546e59b0c",
   "metadata": {},
   "outputs": [
    {
     "data": {
      "text/html": [
       "<div>\n",
       "<style scoped>\n",
       "    .dataframe tbody tr th:only-of-type {\n",
       "        vertical-align: middle;\n",
       "    }\n",
       "\n",
       "    .dataframe tbody tr th {\n",
       "        vertical-align: top;\n",
       "    }\n",
       "\n",
       "    .dataframe thead th {\n",
       "        text-align: right;\n",
       "    }\n",
       "</style>\n",
       "<table border=\"1\" class=\"dataframe\">\n",
       "  <thead>\n",
       "    <tr style=\"text-align: right;\">\n",
       "      <th></th>\n",
       "      <th>Age</th>\n",
       "      <th>Gender</th>\n",
       "      <th>Income_Level</th>\n",
       "      <th>Marital_Status</th>\n",
       "      <th>Education_Level</th>\n",
       "      <th>Occupation</th>\n",
       "      <th>Purchase_Category</th>\n",
       "      <th>Purchase_Amount</th>\n",
       "      <th>Frequency_of_Purchase</th>\n",
       "      <th>Purchase_Channel</th>\n",
       "      <th>...</th>\n",
       "      <th>Customer_Satisfaction</th>\n",
       "      <th>Engagement_with_Ads</th>\n",
       "      <th>Device_Used_for_Shopping</th>\n",
       "      <th>Payment_Method</th>\n",
       "      <th>Time_of_Purchase</th>\n",
       "      <th>Discount_Used</th>\n",
       "      <th>Customer_Loyalty_Program_Member</th>\n",
       "      <th>Purchase_Intent</th>\n",
       "      <th>Shipping_Preference</th>\n",
       "      <th>Time_to_Decision</th>\n",
       "    </tr>\n",
       "  </thead>\n",
       "  <tbody>\n",
       "    <tr>\n",
       "      <th>0</th>\n",
       "      <td>22</td>\n",
       "      <td>Female</td>\n",
       "      <td>Middle</td>\n",
       "      <td>Married</td>\n",
       "      <td>Bachelor's</td>\n",
       "      <td>Middle</td>\n",
       "      <td>Gardening &amp; Outdoors</td>\n",
       "      <td>333.80</td>\n",
       "      <td>4</td>\n",
       "      <td>Mixed</td>\n",
       "      <td>...</td>\n",
       "      <td>7</td>\n",
       "      <td>NaN</td>\n",
       "      <td>Tablet</td>\n",
       "      <td>Credit Card</td>\n",
       "      <td>3/1/2024</td>\n",
       "      <td>True</td>\n",
       "      <td>False</td>\n",
       "      <td>Need-based</td>\n",
       "      <td>No Preference</td>\n",
       "      <td>2</td>\n",
       "    </tr>\n",
       "    <tr>\n",
       "      <th>1</th>\n",
       "      <td>49</td>\n",
       "      <td>Male</td>\n",
       "      <td>High</td>\n",
       "      <td>Married</td>\n",
       "      <td>High School</td>\n",
       "      <td>High</td>\n",
       "      <td>Food &amp; Beverages</td>\n",
       "      <td>222.22</td>\n",
       "      <td>11</td>\n",
       "      <td>In-Store</td>\n",
       "      <td>...</td>\n",
       "      <td>5</td>\n",
       "      <td>High</td>\n",
       "      <td>Tablet</td>\n",
       "      <td>PayPal</td>\n",
       "      <td>4/16/2024</td>\n",
       "      <td>True</td>\n",
       "      <td>False</td>\n",
       "      <td>Wants-based</td>\n",
       "      <td>Standard</td>\n",
       "      <td>6</td>\n",
       "    </tr>\n",
       "    <tr>\n",
       "      <th>2</th>\n",
       "      <td>24</td>\n",
       "      <td>Female</td>\n",
       "      <td>Middle</td>\n",
       "      <td>Single</td>\n",
       "      <td>Master's</td>\n",
       "      <td>High</td>\n",
       "      <td>Office Supplies</td>\n",
       "      <td>426.22</td>\n",
       "      <td>2</td>\n",
       "      <td>Mixed</td>\n",
       "      <td>...</td>\n",
       "      <td>7</td>\n",
       "      <td>Low</td>\n",
       "      <td>Smartphone</td>\n",
       "      <td>Debit Card</td>\n",
       "      <td>3/15/2024</td>\n",
       "      <td>True</td>\n",
       "      <td>True</td>\n",
       "      <td>Impulsive</td>\n",
       "      <td>No Preference</td>\n",
       "      <td>3</td>\n",
       "    </tr>\n",
       "    <tr>\n",
       "      <th>3</th>\n",
       "      <td>29</td>\n",
       "      <td>Female</td>\n",
       "      <td>Middle</td>\n",
       "      <td>Single</td>\n",
       "      <td>Master's</td>\n",
       "      <td>Middle</td>\n",
       "      <td>Home Appliances</td>\n",
       "      <td>101.31</td>\n",
       "      <td>6</td>\n",
       "      <td>Mixed</td>\n",
       "      <td>...</td>\n",
       "      <td>1</td>\n",
       "      <td>NaN</td>\n",
       "      <td>Smartphone</td>\n",
       "      <td>Other</td>\n",
       "      <td>10/4/2024</td>\n",
       "      <td>True</td>\n",
       "      <td>True</td>\n",
       "      <td>Need-based</td>\n",
       "      <td>Express</td>\n",
       "      <td>10</td>\n",
       "    </tr>\n",
       "    <tr>\n",
       "      <th>4</th>\n",
       "      <td>33</td>\n",
       "      <td>Female</td>\n",
       "      <td>Middle</td>\n",
       "      <td>Widowed</td>\n",
       "      <td>High School</td>\n",
       "      <td>Middle</td>\n",
       "      <td>Furniture</td>\n",
       "      <td>211.70</td>\n",
       "      <td>6</td>\n",
       "      <td>Mixed</td>\n",
       "      <td>...</td>\n",
       "      <td>10</td>\n",
       "      <td>NaN</td>\n",
       "      <td>Smartphone</td>\n",
       "      <td>Debit Card</td>\n",
       "      <td>1/30/2024</td>\n",
       "      <td>False</td>\n",
       "      <td>False</td>\n",
       "      <td>Wants-based</td>\n",
       "      <td>No Preference</td>\n",
       "      <td>4</td>\n",
       "    </tr>\n",
       "  </tbody>\n",
       "</table>\n",
       "<p>5 rows × 26 columns</p>\n",
       "</div>"
      ],
      "text/plain": [
       "   Age  Gender Income_Level Marital_Status Education_Level Occupation  \\\n",
       "0   22  Female       Middle        Married      Bachelor's     Middle   \n",
       "1   49    Male         High        Married     High School       High   \n",
       "2   24  Female       Middle         Single        Master's       High   \n",
       "3   29  Female       Middle         Single        Master's     Middle   \n",
       "4   33  Female       Middle        Widowed     High School     Middle   \n",
       "\n",
       "      Purchase_Category  Purchase_Amount  Frequency_of_Purchase  \\\n",
       "0  Gardening & Outdoors           333.80                      4   \n",
       "1      Food & Beverages           222.22                     11   \n",
       "2       Office Supplies           426.22                      2   \n",
       "3       Home Appliances           101.31                      6   \n",
       "4             Furniture           211.70                      6   \n",
       "\n",
       "  Purchase_Channel  ...  Customer_Satisfaction  Engagement_with_Ads  \\\n",
       "0            Mixed  ...                      7                  NaN   \n",
       "1         In-Store  ...                      5                 High   \n",
       "2            Mixed  ...                      7                  Low   \n",
       "3            Mixed  ...                      1                  NaN   \n",
       "4            Mixed  ...                     10                  NaN   \n",
       "\n",
       "   Device_Used_for_Shopping Payment_Method Time_of_Purchase  Discount_Used  \\\n",
       "0                    Tablet    Credit Card         3/1/2024           True   \n",
       "1                    Tablet         PayPal        4/16/2024           True   \n",
       "2                Smartphone     Debit Card        3/15/2024           True   \n",
       "3                Smartphone          Other        10/4/2024           True   \n",
       "4                Smartphone     Debit Card        1/30/2024          False   \n",
       "\n",
       "   Customer_Loyalty_Program_Member Purchase_Intent Shipping_Preference  \\\n",
       "0                            False      Need-based       No Preference   \n",
       "1                            False     Wants-based            Standard   \n",
       "2                             True       Impulsive       No Preference   \n",
       "3                             True      Need-based             Express   \n",
       "4                            False     Wants-based       No Preference   \n",
       "\n",
       "  Time_to_Decision  \n",
       "0                2  \n",
       "1                6  \n",
       "2                3  \n",
       "3               10  \n",
       "4                4  \n",
       "\n",
       "[5 rows x 26 columns]"
      ]
     },
     "execution_count": 261,
     "metadata": {},
     "output_type": "execute_result"
    }
   ],
   "source": [
    "df.head()"
   ]
  },
  {
   "cell_type": "code",
   "execution_count": null,
   "id": "6e7b7d6b-53f9-44a6-826c-adbdb3ee4f62",
   "metadata": {},
   "outputs": [],
   "source": [
    "# Transforms string numeric values in float"
   ]
  },
  {
   "cell_type": "code",
   "execution_count": 215,
   "id": "d0ef7063-30fb-417a-b6c4-dd13c8a6607a",
   "metadata": {},
   "outputs": [],
   "source": [
    "def object_to_float(df, column):\n",
    "\n",
    "    try:\n",
    "        df[column] = df[column].str.replace('$', '', regex=False).astype(float)\n",
    "        return df\n",
    "    except (AttributeError, ValueError):\n",
    "        print(f\"Could not convert '{column}' to float, check column's '{column}' format.\")  \n",
    "        return df"
   ]
  },
  {
   "cell_type": "code",
   "execution_count": 216,
   "id": "7762c43e-e07d-4cf1-805d-ae96812fca5c",
   "metadata": {},
   "outputs": [],
   "source": [
    "df = object_to_float(df, 'Purchase_Amount') "
   ]
  },
  {
   "cell_type": "code",
   "execution_count": 262,
   "id": "c493c37d-934b-4ddb-a4e2-b148f7242fbb",
   "metadata": {},
   "outputs": [
    {
     "data": {
      "text/plain": [
       "dtype('float64')"
      ]
     },
     "execution_count": 262,
     "metadata": {},
     "output_type": "execute_result"
    }
   ],
   "source": [
    "df['Purchase_Amount'].dtype"
   ]
  },
  {
   "cell_type": "code",
   "execution_count": 263,
   "id": "7a737360-a9a9-41d4-a15c-48506f73c52c",
   "metadata": {},
   "outputs": [
    {
     "data": {
      "text/plain": [
       "0    333.80\n",
       "1    222.22\n",
       "2    426.22\n",
       "3    101.31\n",
       "4    211.70\n",
       "Name: Purchase_Amount, dtype: float64"
      ]
     },
     "execution_count": 263,
     "metadata": {},
     "output_type": "execute_result"
    }
   ],
   "source": [
    "df['Purchase_Amount'].head()"
   ]
  },
  {
   "cell_type": "code",
   "execution_count": null,
   "id": "db631cde-5f72-4fb4-b4e8-9ed91130ef1c",
   "metadata": {},
   "outputs": [],
   "source": [
    "# Checks if data follows normal distribution"
   ]
  },
  {
   "cell_type": "code",
   "execution_count": null,
   "id": "ffb4e5a5-b06d-402a-923b-dc960cba5f1a",
   "metadata": {},
   "outputs": [],
   "source": [
    "# Uses D'Agostine-Pearson Test due to dataset size (1000 rows)"
   ]
  },
  {
   "cell_type": "code",
   "execution_count": 219,
   "id": "a802dc57-db51-4ba5-9c59-c2e8c3c4033b",
   "metadata": {},
   "outputs": [],
   "source": [
    "def normal_distribution_check(data):\n",
    "    try:\n",
    "        stat, p = normaltest(data)\n",
    "        print(f\"D'Agostino-Pearson Test: \")\n",
    "        print(f\"Stat: {stat}\")\n",
    "        print(f\"p-value: {p}\")\n",
    "        if is_numeric_dtype(df[column]):\n",
    "            plt.figure(figsize=(3,2))\n",
    "            sns.histplot(df[column], kde=True)\n",
    "            plt.show()\n",
    "        print(\"_\" * 20 + \"\\n\")\n",
    "    except (ValueError, AttributeError, TypeError):\n",
    "        print(\"Could not perform the test. Check the type of the column's data. \\n\")\n",
    "    "
   ]
  },
  {
   "cell_type": "code",
   "execution_count": 220,
   "id": "f0cbfa1f-8d4a-4d4e-b386-650bb46e9376",
   "metadata": {},
   "outputs": [
    {
     "name": "stdout",
     "output_type": "stream",
     "text": [
      "Age\n",
      "D'Agostino-Pearson Test: \n",
      "Stat: 608.9693582259446\n",
      "p-value: 5.807430714460437e-133\n"
     ]
    },
    {
     "data": {
      "image/png": "[encoded data removed]",
      "text/plain": [
       "<Figure size 300x200 with 1 Axes>"
      ]
     },
     "metadata": {},
     "output_type": "display_data"
    },
    {
     "name": "stdout",
     "output_type": "stream",
     "text": [
      "____________________\n",
      "\n",
      "Gender\n",
      "Could not perform the test. Check the type of the column's data. \n",
      "\n",
      "Income_Level\n",
      "Could not perform the test. Check the type of the column's data. \n",
      "\n",
      "Marital_Status\n",
      "Could not perform the test. Check the type of the column's data. \n",
      "\n",
      "Education_Level\n",
      "Could not perform the test. Check the type of the column's data. \n",
      "\n",
      "Occupation\n",
      "Could not perform the test. Check the type of the column's data. \n",
      "\n",
      "Purchase_Category\n",
      "Could not perform the test. Check the type of the column's data. \n",
      "\n",
      "Purchase_Amount\n",
      "D'Agostino-Pearson Test: \n",
      "Stat: 811.9122402515461\n",
      "p-value: 4.960176546585437e-177\n"
     ]
    },
    {
     "data": {
      "image/png": "[encoded data removed]",
      "text/plain": [
       "<Figure size 300x200 with 1 Axes>"
      ]
     },
     "metadata": {},
     "output_type": "display_data"
    },
    {
     "name": "stdout",
     "output_type": "stream",
     "text": [
      "____________________\n",
      "\n",
      "Frequency_of_Purchase\n",
      "D'Agostino-Pearson Test: \n",
      "Stat: 785.4202950442956\n",
      "p-value: 2.8064024040706726e-171\n"
     ]
    },
    {
     "data": {
      "image/png": "[encoded data removed]",
      "text/plain": [
       "<Figure size 300x200 with 1 Axes>"
      ]
     },
     "metadata": {},
     "output_type": "display_data"
    },
    {
     "name": "stdout",
     "output_type": "stream",
     "text": [
      "____________________\n",
      "\n",
      "Purchase_Channel\n",
      "Could not perform the test. Check the type of the column's data. \n",
      "\n",
      "Brand_Loyalty\n",
      "D'Agostino-Pearson Test: \n",
      "Stat: 2036.9175038084545\n",
      "p-value: 0.0\n"
     ]
    },
    {
     "data": {
      "image/png": "[encoded data removed]",
      "text/plain": [
       "<Figure size 300x200 with 1 Axes>"
      ]
     },
     "metadata": {},
     "output_type": "display_data"
    },
    {
     "name": "stdout",
     "output_type": "stream",
     "text": [
      "____________________\n",
      "\n",
      "Product_Rating\n",
      "D'Agostino-Pearson Test: \n",
      "Stat: 5278.015351799029\n",
      "p-value: 0.0\n"
     ]
    },
    {
     "data": {
      "image/png": "[encoded data removed]",
      "text/plain": [
       "<Figure size 300x200 with 1 Axes>"
      ]
     },
     "metadata": {},
     "output_type": "display_data"
    },
    {
     "name": "stdout",
     "output_type": "stream",
     "text": [
      "____________________\n",
      "\n",
      "Time_Spent_on_Product_Research(hours)\n",
      "D'Agostino-Pearson Test: \n",
      "Stat: 10401.879849832878\n",
      "p-value: 0.0\n"
     ]
    },
    {
     "data": {
      "image/png": "[encoded data removed]",
      "text/plain": [
       "<Figure size 300x200 with 1 Axes>"
      ]
     },
     "metadata": {},
     "output_type": "display_data"
    },
    {
     "name": "stdout",
     "output_type": "stream",
     "text": [
      "____________________\n",
      "\n",
      "Social_Media_Influence\n",
      "D'Agostino-Pearson Test: \n",
      "Stat: nan\n",
      "p-value: nan\n",
      "____________________\n",
      "\n",
      "Discount_Sensitivity\n",
      "Could not perform the test. Check the type of the column's data. \n",
      "\n",
      "Return_Rate\n",
      "D'Agostino-Pearson Test: \n",
      "Stat: 8054.768696521714\n",
      "p-value: 0.0\n"
     ]
    },
    {
     "data": {
      "image/png": "[encoded data removed]",
      "text/plain": [
       "<Figure size 300x200 with 1 Axes>"
      ]
     },
     "metadata": {},
     "output_type": "display_data"
    },
    {
     "name": "stdout",
     "output_type": "stream",
     "text": [
      "____________________\n",
      "\n",
      "Customer_Satisfaction\n",
      "D'Agostino-Pearson Test: \n",
      "Stat: 984.2659834131358\n",
      "p-value: 1.8593336933387618e-214\n"
     ]
    },
    {
     "data": {
      "image/png": "[encoded data removed]",
      "text/plain": [
       "<Figure size 300x200 with 1 Axes>"
      ]
     },
     "metadata": {},
     "output_type": "display_data"
    },
    {
     "name": "stdout",
     "output_type": "stream",
     "text": [
      "____________________\n",
      "\n",
      "Engagement_with_Ads\n",
      "D'Agostino-Pearson Test: \n",
      "Stat: nan\n",
      "p-value: nan\n",
      "____________________\n",
      "\n",
      "Device_Used_for_Shopping\n",
      "Could not perform the test. Check the type of the column's data. \n",
      "\n",
      "Payment_Method\n",
      "Could not perform the test. Check the type of the column's data. \n",
      "\n",
      "Time_of_Purchase\n",
      "Could not perform the test. Check the type of the column's data. \n",
      "\n",
      "Discount_Used\n",
      "Could not perform the test. Check the type of the column's data. \n",
      "\n",
      "Customer_Loyalty_Program_Member\n",
      "Could not perform the test. Check the type of the column's data. \n",
      "\n",
      "Purchase_Intent\n",
      "Could not perform the test. Check the type of the column's data. \n",
      "\n",
      "Shipping_Preference\n",
      "Could not perform the test. Check the type of the column's data. \n",
      "\n",
      "Time_to_Decision\n",
      "D'Agostino-Pearson Test: \n",
      "Stat: 625.0844312785257\n",
      "p-value: 1.839248396353315e-136\n"
     ]
    },
    {
     "data": {
      "image/png": "[encoded data removed]",
      "text/plain": [
       "<Figure size 300x200 with 1 Axes>"
      ]
     },
     "metadata": {},
     "output_type": "display_data"
    },
    {
     "name": "stdout",
     "output_type": "stream",
     "text": [
      "____________________\n",
      "\n"
     ]
    }
   ],
   "source": [
    "for column in df.columns:\n",
    "    print(column)\n",
    "    normal_distribution_check(df[column])  \n",
    "    "
   ]
  },
  {
   "cell_type": "code",
   "execution_count": null,
   "id": "613e36fb-5d58-4e1b-9efa-d9b26a0ffe5c",
   "metadata": {},
   "outputs": [],
   "source": [
    "# Data doesn't follow normal distribution"
   ]
  },
  {
   "cell_type": "code",
   "execution_count": null,
   "id": "dfc7e280-dc1e-4d54-b94e-019d66a1f3c5",
   "metadata": {},
   "outputs": [],
   "source": [
    "# Checks for outliers via boxplotting (skipping quartile analysis for sake of simplicity, this is a synthetic, poorly formed dataset)"
   ]
  },
  {
   "cell_type": "code",
   "execution_count": 221,
   "id": "da490c42-16c7-47b1-821b-31f4a2d151e5",
   "metadata": {},
   "outputs": [],
   "source": [
    "def outlier_check(data):\n",
    "    try:\n",
    "        if is_numeric_dtype(df[column]):\n",
    "            plt.figure(figsize=(3,2))\n",
    "            sns.boxplot(data=df[column])\n",
    "            plt.show()\n",
    "        print(\"_\" * 20 + \"\\n\")\n",
    "    except (ValueError, AttributeError, TypeError):\n",
    "        print(\"Could not perform the test. Check the type of the column's data. \\n\")\n",
    "    "
   ]
  },
  {
   "cell_type": "code",
   "execution_count": 222,
   "id": "b3673d00-89f3-41d5-9d20-e2916cc7ea9a",
   "metadata": {},
   "outputs": [
    {
     "name": "stdout",
     "output_type": "stream",
     "text": [
      "Age\n"
     ]
    },
    {
     "data": {
      "image/png": "[encoded data removed]",
      "text/plain": [
       "<Figure size 300x200 with 1 Axes>"
      ]
     },
     "metadata": {},
     "output_type": "display_data"
    },
    {
     "name": "stdout",
     "output_type": "stream",
     "text": [
      "____________________\n",
      "\n",
      "Gender\n",
      "____________________\n",
      "\n",
      "Income_Level\n",
      "____________________\n",
      "\n",
      "Marital_Status\n",
      "____________________\n",
      "\n",
      "Education_Level\n",
      "____________________\n",
      "\n",
      "Occupation\n",
      "____________________\n",
      "\n",
      "Purchase_Category\n",
      "____________________\n",
      "\n",
      "Purchase_Amount\n"
     ]
    },
    {
     "data": {
      "image/png": "[encoded data removed]",
      "text/plain": [
       "<Figure size 300x200 with 1 Axes>"
      ]
     },
     "metadata": {},
     "output_type": "display_data"
    },
    {
     "name": "stdout",
     "output_type": "stream",
     "text": [
      "____________________\n",
      "\n",
      "Frequency_of_Purchase\n"
     ]
    },
    {
     "data": {
      "image/png": "[encoded data removed]",
      "text/plain": [
       "<Figure size 300x200 with 1 Axes>"
      ]
     },
     "metadata": {},
     "output_type": "display_data"
    },
    {
     "name": "stdout",
     "output_type": "stream",
     "text": [
      "____________________\n",
      "\n",
      "Purchase_Channel\n",
      "____________________\n",
      "\n",
      "Brand_Loyalty\n"
     ]
    },
    {
     "data": {
      "image/png": "[encoded data removed]",
      "text/plain": [
       "<Figure size 300x200 with 1 Axes>"
      ]
     },
     "metadata": {},
     "output_type": "display_data"
    },
    {
     "name": "stdout",
     "output_type": "stream",
     "text": [
      "____________________\n",
      "\n",
      "Product_Rating\n"
     ]
    },
    {
     "data": {
      "image/png": "[encoded data removed]",
      "text/plain": [
       "<Figure size 300x200 with 1 Axes>"
      ]
     },
     "metadata": {},
     "output_type": "display_data"
    },
    {
     "name": "stdout",
     "output_type": "stream",
     "text": [
      "____________________\n",
      "\n",
      "Time_Spent_on_Product_Research(hours)\n"
     ]
    },
    {
     "data": {
      "image/png": "[encoded data removed]",
      "text/plain": [
       "<Figure size 300x200 with 1 Axes>"
      ]
     },
     "metadata": {},
     "output_type": "display_data"
    },
    {
     "name": "stdout",
     "output_type": "stream",
     "text": [
      "____________________\n",
      "\n",
      "Social_Media_Influence\n",
      "____________________\n",
      "\n",
      "Discount_Sensitivity\n",
      "____________________\n",
      "\n",
      "Return_Rate\n"
     ]
    },
    {
     "data": {
      "image/png": "[encoded data removed]",
      "text/plain": [
       "<Figure size 300x200 with 1 Axes>"
      ]
     },
     "metadata": {},
     "output_type": "display_data"
    },
    {
     "name": "stdout",
     "output_type": "stream",
     "text": [
      "____________________\n",
      "\n",
      "Customer_Satisfaction\n"
     ]
    },
    {
     "data": {
      "image/png": "[encoded data removed]",
      "text/plain": [
       "<Figure size 300x200 with 1 Axes>"
      ]
     },
     "metadata": {},
     "output_type": "display_data"
    },
    {
     "name": "stdout",
     "output_type": "stream",
     "text": [
      "____________________\n",
      "\n",
      "Engagement_with_Ads\n",
      "____________________\n",
      "\n",
      "Device_Used_for_Shopping\n",
      "____________________\n",
      "\n",
      "Payment_Method\n",
      "____________________\n",
      "\n",
      "Time_of_Purchase\n",
      "____________________\n",
      "\n",
      "Discount_Used\n"
     ]
    },
    {
     "data": {
      "image/png": "[encoded data removed]",
      "text/plain": [
       "<Figure size 300x200 with 1 Axes>"
      ]
     },
     "metadata": {},
     "output_type": "display_data"
    },
    {
     "name": "stdout",
     "output_type": "stream",
     "text": [
      "____________________\n",
      "\n",
      "Customer_Loyalty_Program_Member\n"
     ]
    },
    {
     "data": {
      "image/png": "[encoded data removed]",
      "text/plain": [
       "<Figure size 300x200 with 1 Axes>"
      ]
     },
     "metadata": {},
     "output_type": "display_data"
    },
    {
     "name": "stdout",
     "output_type": "stream",
     "text": [
      "____________________\n",
      "\n",
      "Purchase_Intent\n",
      "____________________\n",
      "\n",
      "Shipping_Preference\n",
      "____________________\n",
      "\n",
      "Time_to_Decision\n"
     ]
    },
    {
     "data": {
      "image/png": "[encoded data removed]",
      "text/plain": [
       "<Figure size 300x200 with 1 Axes>"
      ]
     },
     "metadata": {},
     "output_type": "display_data"
    },
    {
     "name": "stdout",
     "output_type": "stream",
     "text": [
      "____________________\n",
      "\n"
     ]
    }
   ],
   "source": [
    "for column in df.columns:\n",
    "    print(column)\n",
    "    outlier_check(df[column])  "
   ]
  },
  {
   "cell_type": "code",
   "execution_count": null,
   "id": "e8a59c25-ecc6-4c4d-bf6d-578751456dbd",
   "metadata": {},
   "outputs": [],
   "source": [
    "# No outliers found"
   ]
  },
  {
   "cell_type": "code",
   "execution_count": null,
   "id": "d552ba74-ccc3-415d-b4ac-a45d5a6463ff",
   "metadata": {},
   "outputs": [],
   "source": [
    "# Checks data for correlations via Kendall and Spearman methods, since data does not follow normal distribution"
   ]
  },
  {
   "cell_type": "code",
   "execution_count": 244,
   "id": "a3677ea5-773b-4c48-b7fb-a124f13343a3",
   "metadata": {},
   "outputs": [],
   "source": [
    "def correlation_check(data):\n",
    "\n",
    "    df_spearman_corr = data.corr(method='spearman', numeric_only=True)\n",
    "    df_kendall_corr = data.corr(method='kendall', numeric_only=True)\n",
    "    print(\"Spearman Correlation:\")\n",
    "    print(df_spearman_corr)\n",
    "    sns.heatmap(df_spearman_corr, annot=True, cmap='coolwarm', fmt='.1f')\n",
    "    plt.show()\n",
    "    print(\"_\" *100 + \"\\n\")\n",
    "    print(\"Kendall Correlation:\")\n",
    "    print(df_kendall_corr)\n",
    "    sns.heatmap(df_kendall_corr, annot=True, cmap='coolwarm', fmt='.1f')\n",
    "    plt.show()\n",
    "\n",
    "    \n",
    "    "
   ]
  },
  {
   "cell_type": "code",
   "execution_count": 245,
   "id": "026f301c-8204-41ec-aab0-c829d3c3f983",
   "metadata": {},
   "outputs": [
    {
     "name": "stdout",
     "output_type": "stream",
     "text": [
      "Spearman Correlation:\n",
      "                                            Age  Purchase_Amount  \\\n",
      "Age                                    1.000000        -0.016181   \n",
      "Purchase_Amount                       -0.016181         1.000000   \n",
      "Frequency_of_Purchase                 -0.046899         0.001379   \n",
      "Brand_Loyalty                         -0.012292        -0.074214   \n",
      "Product_Rating                         0.010512         0.014607   \n",
      "Time_Spent_on_Product_Research(hours)  0.000054        -0.021065   \n",
      "Return_Rate                            0.030697        -0.020365   \n",
      "Customer_Satisfaction                 -0.004685        -0.021683   \n",
      "Discount_Used                          0.007458        -0.008200   \n",
      "Customer_Loyalty_Program_Member       -0.009862        -0.102942   \n",
      "Time_to_Decision                       0.004180         0.013842   \n",
      "\n",
      "                                       Frequency_of_Purchase  Brand_Loyalty  \\\n",
      "Age                                                -0.046899      -0.012292   \n",
      "Purchase_Amount                                     0.001379      -0.074214   \n",
      "Frequency_of_Purchase                               1.000000       0.014831   \n",
      "Brand_Loyalty                                       0.014831       1.000000   \n",
      "Product_Rating                                     -0.063457      -0.001655   \n",
      "Time_Spent_on_Product_Research(hours)               0.008452      -0.006780   \n",
      "Return_Rate                                        -0.017139       0.014311   \n",
      "Customer_Satisfaction                               0.013655      -0.035086   \n",
      "Discount_Used                                       0.035927      -0.057251   \n",
      "Customer_Loyalty_Program_Member                    -0.016430       0.014598   \n",
      "Time_to_Decision                                    0.034412      -0.014627   \n",
      "\n",
      "                                       Product_Rating  \\\n",
      "Age                                          0.010512   \n",
      "Purchase_Amount                              0.014607   \n",
      "Frequency_of_Purchase                       -0.063457   \n",
      "Brand_Loyalty                               -0.001655   \n",
      "Product_Rating                               1.000000   \n",
      "Time_Spent_on_Product_Research(hours)       -0.034850   \n",
      "Return_Rate                                  0.055078   \n",
      "Customer_Satisfaction                       -0.042964   \n",
      "Discount_Used                               -0.081213   \n",
      "Customer_Loyalty_Program_Member             -0.003756   \n",
      "Time_to_Decision                            -0.007507   \n",
      "\n",
      "                                       Time_Spent_on_Product_Research(hours)  \\\n",
      "Age                                                                 0.000054   \n",
      "Purchase_Amount                                                    -0.021065   \n",
      "Frequency_of_Purchase                                               0.008452   \n",
      "Brand_Loyalty                                                      -0.006780   \n",
      "Product_Rating                                                     -0.034850   \n",
      "Time_Spent_on_Product_Research(hours)                               1.000000   \n",
      "Return_Rate                                                         0.016321   \n",
      "Customer_Satisfaction                                               0.009458   \n",
      "Discount_Used                                                       0.001538   \n",
      "Customer_Loyalty_Program_Member                                    -0.005141   \n",
      "Time_to_Decision                                                   -0.006143   \n",
      "\n",
      "                                       Return_Rate  Customer_Satisfaction  \\\n",
      "Age                                       0.030697              -0.004685   \n",
      "Purchase_Amount                          -0.020365              -0.021683   \n",
      "Frequency_of_Purchase                    -0.017139               0.013655   \n",
      "Brand_Loyalty                             0.014311              -0.035086   \n",
      "Product_Rating                            0.055078              -0.042964   \n",
      "Time_Spent_on_Product_Research(hours)     0.016321               0.009458   \n",
      "Return_Rate                               1.000000               0.022904   \n",
      "Customer_Satisfaction                     0.022904               1.000000   \n",
      "Discount_Used                            -0.020445               0.010566   \n",
      "Customer_Loyalty_Program_Member           0.008009               0.031008   \n",
      "Time_to_Decision                          0.036497              -0.015341   \n",
      "\n",
      "                                       Discount_Used  \\\n",
      "Age                                         0.007458   \n",
      "Purchase_Amount                            -0.008200   \n",
      "Frequency_of_Purchase                       0.035927   \n",
      "Brand_Loyalty                              -0.057251   \n",
      "Product_Rating                             -0.081213   \n",
      "Time_Spent_on_Product_Research(hours)       0.001538   \n",
      "Return_Rate                                -0.020445   \n",
      "Customer_Satisfaction                       0.010566   \n",
      "Discount_Used                               1.000000   \n",
      "Customer_Loyalty_Program_Member             0.048807   \n",
      "Time_to_Decision                           -0.006248   \n",
      "\n",
      "                                       Customer_Loyalty_Program_Member  \\\n",
      "Age                                                          -0.009862   \n",
      "Purchase_Amount                                              -0.102942   \n",
      "Frequency_of_Purchase                                        -0.016430   \n",
      "Brand_Loyalty                                                 0.014598   \n",
      "Product_Rating                                               -0.003756   \n",
      "Time_Spent_on_Product_Research(hours)                        -0.005141   \n",
      "Return_Rate                                                   0.008009   \n",
      "Customer_Satisfaction                                         0.031008   \n",
      "Discount_Used                                                 0.048807   \n",
      "Customer_Loyalty_Program_Member                               1.000000   \n",
      "Time_to_Decision                                             -0.044174   \n",
      "\n",
      "                                       Time_to_Decision  \n",
      "Age                                            0.004180  \n",
      "Purchase_Amount                                0.013842  \n",
      "Frequency_of_Purchase                          0.034412  \n",
      "Brand_Loyalty                                 -0.014627  \n",
      "Product_Rating                                -0.007507  \n",
      "Time_Spent_on_Product_Research(hours)         -0.006143  \n",
      "Return_Rate                                    0.036497  \n",
      "Customer_Satisfaction                         -0.015341  \n",
      "Discount_Used                                 -0.006248  \n",
      "Customer_Loyalty_Program_Member               -0.044174  \n",
      "Time_to_Decision                               1.000000  \n"
     ]
    },
    {
     "data": {
      "image/png": "[encoded data removed]",
      "text/plain": [
       "<Figure size 640x480 with 2 Axes>"
      ]
     },
     "metadata": {},
     "output_type": "display_data"
    },
    {
     "name": "stdout",
     "output_type": "stream",
     "text": [
      "____________________________________________________________________________________________________\n",
      "\n",
      "Kendall Correlation:\n",
      "                                            Age  Purchase_Amount  \\\n",
      "Age                                    1.000000        -0.010344   \n",
      "Purchase_Amount                       -0.010344         1.000000   \n",
      "Frequency_of_Purchase                 -0.033008         0.001602   \n",
      "Brand_Loyalty                         -0.009284        -0.055397   \n",
      "Product_Rating                         0.007623         0.010790   \n",
      "Time_Spent_on_Product_Research(hours) -0.000181        -0.015629   \n",
      "Return_Rate                            0.024214        -0.015743   \n",
      "Customer_Satisfaction                 -0.003398        -0.015637   \n",
      "Discount_Used                          0.006184        -0.006699   \n",
      "Customer_Loyalty_Program_Member       -0.008177        -0.084095   \n",
      "Time_to_Decision                       0.003029         0.009517   \n",
      "\n",
      "                                       Frequency_of_Purchase  Brand_Loyalty  \\\n",
      "Age                                                -0.033008      -0.009284   \n",
      "Purchase_Amount                                     0.001602      -0.055397   \n",
      "Frequency_of_Purchase                               1.000000       0.011625   \n",
      "Brand_Loyalty                                       0.011625       1.000000   \n",
      "Product_Rating                                     -0.049152      -0.001426   \n",
      "Time_Spent_on_Product_Research(hours)               0.006185      -0.005900   \n",
      "Return_Rate                                        -0.013560       0.012018   \n",
      "Customer_Satisfaction                               0.009942      -0.026877   \n",
      "Discount_Used                                       0.030650      -0.051210   \n",
      "Customer_Loyalty_Program_Member                    -0.014017       0.013057   \n",
      "Time_to_Decision                                    0.025078      -0.011347   \n",
      "\n",
      "                                       Product_Rating  \\\n",
      "Age                                          0.007623   \n",
      "Purchase_Amount                              0.010790   \n",
      "Frequency_of_Purchase                       -0.049152   \n",
      "Brand_Loyalty                               -0.001426   \n",
      "Product_Rating                               1.000000   \n",
      "Time_Spent_on_Product_Research(hours)       -0.029075   \n",
      "Return_Rate                                  0.046116   \n",
      "Customer_Satisfaction                       -0.033180   \n",
      "Discount_Used                               -0.072653   \n",
      "Customer_Loyalty_Program_Member             -0.003360   \n",
      "Time_to_Decision                            -0.005776   \n",
      "\n",
      "                                       Time_Spent_on_Product_Research(hours)  \\\n",
      "Age                                                                -0.000181   \n",
      "Purchase_Amount                                                    -0.015629   \n",
      "Frequency_of_Purchase                                               0.006185   \n",
      "Brand_Loyalty                                                      -0.005900   \n",
      "Product_Rating                                                     -0.029075   \n",
      "Time_Spent_on_Product_Research(hours)                               1.000000   \n",
      "Return_Rate                                                         0.014316   \n",
      "Customer_Satisfaction                                               0.007316   \n",
      "Discount_Used                                                       0.001433   \n",
      "Customer_Loyalty_Program_Member                                    -0.004790   \n",
      "Time_to_Decision                                                   -0.004726   \n",
      "\n",
      "                                       Return_Rate  Customer_Satisfaction  \\\n",
      "Age                                       0.024214              -0.003398   \n",
      "Purchase_Amount                          -0.015743              -0.015637   \n",
      "Frequency_of_Purchase                    -0.013560               0.009942   \n",
      "Brand_Loyalty                             0.012018              -0.026877   \n",
      "Product_Rating                            0.046116              -0.033180   \n",
      "Time_Spent_on_Product_Research(hours)     0.014316               0.007316   \n",
      "Return_Rate                               1.000000               0.018543   \n",
      "Customer_Satisfaction                     0.018543               1.000000   \n",
      "Discount_Used                            -0.019280               0.009051   \n",
      "Customer_Loyalty_Program_Member           0.007553               0.026560   \n",
      "Time_to_Decision                          0.029261              -0.011125   \n",
      "\n",
      "                                       Discount_Used  \\\n",
      "Age                                         0.006184   \n",
      "Purchase_Amount                            -0.006699   \n",
      "Frequency_of_Purchase                       0.030650   \n",
      "Brand_Loyalty                              -0.051210   \n",
      "Product_Rating                             -0.072653   \n",
      "Time_Spent_on_Product_Research(hours)       0.001433   \n",
      "Return_Rate                                -0.019280   \n",
      "Customer_Satisfaction                       0.009051   \n",
      "Discount_Used                               1.000000   \n",
      "Customer_Loyalty_Program_Member             0.048807   \n",
      "Time_to_Decision                           -0.005284   \n",
      "\n",
      "                                       Customer_Loyalty_Program_Member  \\\n",
      "Age                                                          -0.008177   \n",
      "Purchase_Amount                                              -0.084095   \n",
      "Frequency_of_Purchase                                        -0.014017   \n",
      "Brand_Loyalty                                                 0.013057   \n",
      "Product_Rating                                               -0.003360   \n",
      "Time_Spent_on_Product_Research(hours)                        -0.004790   \n",
      "Return_Rate                                                   0.007553   \n",
      "Customer_Satisfaction                                         0.026560   \n",
      "Discount_Used                                                 0.048807   \n",
      "Customer_Loyalty_Program_Member                               1.000000   \n",
      "Time_to_Decision                                             -0.037360   \n",
      "\n",
      "                                       Time_to_Decision  \n",
      "Age                                            0.003029  \n",
      "Purchase_Amount                                0.009517  \n",
      "Frequency_of_Purchase                          0.025078  \n",
      "Brand_Loyalty                                 -0.011347  \n",
      "Product_Rating                                -0.005776  \n",
      "Time_Spent_on_Product_Research(hours)         -0.004726  \n",
      "Return_Rate                                    0.029261  \n",
      "Customer_Satisfaction                         -0.011125  \n",
      "Discount_Used                                 -0.005284  \n",
      "Customer_Loyalty_Program_Member               -0.037360  \n",
      "Time_to_Decision                               1.000000  \n"
     ]
    },
    {
     "data": {
      "image/png": "[encoded data removed]",
      "text/plain": [
       "<Figure size 640x480 with 2 Axes>"
      ]
     },
     "metadata": {},
     "output_type": "display_data"
    }
   ],
   "source": [
    "correlation_check(df)"
   ]
  },
  {
   "cell_type": "code",
   "execution_count": null,
   "id": "cf8a1ad6-7a98-46c0-97a4-a770aaf87fcf",
   "metadata": {},
   "outputs": [],
   "source": [
    "# Data totally uncorrelated, as demonstrated by both methods"
   ]
  },
  {
   "cell_type": "code",
   "execution_count": null,
   "id": "8fb92ca7-fb35-4c5b-85d0-9cedaa78fb9a",
   "metadata": {},
   "outputs": [],
   "source": [
    "# Since data is totally uncorrelated and does not follow normal distribution, ensemble algos seem to be a better option,"
   ]
  },
  {
   "cell_type": "code",
   "execution_count": null,
   "id": "4e943906-4419-425a-8abf-cfc10b5ed4a5",
   "metadata": {},
   "outputs": [],
   "source": [
    "# let's use Random Forest Regressor to try to predict a chosen variable"
   ]
  },
  {
   "cell_type": "code",
   "execution_count": 284,
   "id": "3926fd50-12ce-4ab5-aa11-1253b6790855",
   "metadata": {},
   "outputs": [],
   "source": [
    "X = df.drop('Purchase_Amount', axis=1)\n",
    "y = df['Purchase_Amount']"
   ]
  },
  {
   "cell_type": "code",
   "execution_count": null,
   "id": "ce6586b0-34ca-40b7-bab4-5b6cb8c2ca8a",
   "metadata": {},
   "outputs": [],
   "source": [
    "# Encoding categorical data"
   ]
  },
  {
   "cell_type": "code",
   "execution_count": 285,
   "id": "8c26b300-da30-4ad6-85ee-f9c5a4fc3ee1",
   "metadata": {},
   "outputs": [],
   "source": [
    "label_encoders = {}\n",
    "\n",
    "for col in X.select_dtypes(include='object').columns:\n",
    "    label_encoders[col] = LabelEncoder()\n",
    "    X[col] = X[col].astype(str)\n",
    "    X[col] = label_encoders[col].fit_transform(X[col])"
   ]
  },
  {
   "cell_type": "code",
   "execution_count": 287,
   "id": "f3766fd3-cb2a-4747-9ad2-6e4f97f33c6c",
   "metadata": {},
   "outputs": [
    {
     "data": {
      "text/html": [
       "<div>\n",
       "<style scoped>\n",
       "    .dataframe tbody tr th:only-of-type {\n",
       "        vertical-align: middle;\n",
       "    }\n",
       "\n",
       "    .dataframe tbody tr th {\n",
       "        vertical-align: top;\n",
       "    }\n",
       "\n",
       "    .dataframe thead th {\n",
       "        text-align: right;\n",
       "    }\n",
       "</style>\n",
       "<table border=\"1\" class=\"dataframe\">\n",
       "  <thead>\n",
       "    <tr style=\"text-align: right;\">\n",
       "      <th></th>\n",
       "      <th>Age</th>\n",
       "      <th>Gender</th>\n",
       "      <th>Income_Level</th>\n",
       "      <th>Marital_Status</th>\n",
       "      <th>Education_Level</th>\n",
       "      <th>Occupation</th>\n",
       "      <th>Purchase_Category</th>\n",
       "      <th>Frequency_of_Purchase</th>\n",
       "      <th>Purchase_Channel</th>\n",
       "      <th>Brand_Loyalty</th>\n",
       "      <th>...</th>\n",
       "      <th>Customer_Satisfaction</th>\n",
       "      <th>Engagement_with_Ads</th>\n",
       "      <th>Device_Used_for_Shopping</th>\n",
       "      <th>Payment_Method</th>\n",
       "      <th>Time_of_Purchase</th>\n",
       "      <th>Discount_Used</th>\n",
       "      <th>Customer_Loyalty_Program_Member</th>\n",
       "      <th>Purchase_Intent</th>\n",
       "      <th>Shipping_Preference</th>\n",
       "      <th>Time_to_Decision</th>\n",
       "    </tr>\n",
       "  </thead>\n",
       "  <tbody>\n",
       "    <tr>\n",
       "      <th>0</th>\n",
       "      <td>22</td>\n",
       "      <td>2</td>\n",
       "      <td>1</td>\n",
       "      <td>1</td>\n",
       "      <td>0</td>\n",
       "      <td>1</td>\n",
       "      <td>9</td>\n",
       "      <td>4</td>\n",
       "      <td>1</td>\n",
       "      <td>5</td>\n",
       "      <td>...</td>\n",
       "      <td>7</td>\n",
       "      <td>3</td>\n",
       "      <td>2</td>\n",
       "      <td>1</td>\n",
       "      <td>142</td>\n",
       "      <td>True</td>\n",
       "      <td>False</td>\n",
       "      <td>1</td>\n",
       "      <td>1</td>\n",
       "      <td>2</td>\n",
       "    </tr>\n",
       "    <tr>\n",
       "      <th>1</th>\n",
       "      <td>49</td>\n",
       "      <td>5</td>\n",
       "      <td>0</td>\n",
       "      <td>1</td>\n",
       "      <td>1</td>\n",
       "      <td>0</td>\n",
       "      <td>7</td>\n",
       "      <td>11</td>\n",
       "      <td>0</td>\n",
       "      <td>3</td>\n",
       "      <td>...</td>\n",
       "      <td>5</td>\n",
       "      <td>0</td>\n",
       "      <td>2</td>\n",
       "      <td>4</td>\n",
       "      <td>179</td>\n",
       "      <td>True</td>\n",
       "      <td>False</td>\n",
       "      <td>3</td>\n",
       "      <td>2</td>\n",
       "      <td>6</td>\n",
       "    </tr>\n",
       "    <tr>\n",
       "      <th>2</th>\n",
       "      <td>24</td>\n",
       "      <td>2</td>\n",
       "      <td>1</td>\n",
       "      <td>2</td>\n",
       "      <td>2</td>\n",
       "      <td>0</td>\n",
       "      <td>18</td>\n",
       "      <td>2</td>\n",
       "      <td>1</td>\n",
       "      <td>5</td>\n",
       "      <td>...</td>\n",
       "      <td>7</td>\n",
       "      <td>1</td>\n",
       "      <td>1</td>\n",
       "      <td>2</td>\n",
       "      <td>148</td>\n",
       "      <td>True</td>\n",
       "      <td>True</td>\n",
       "      <td>0</td>\n",
       "      <td>1</td>\n",
       "      <td>3</td>\n",
       "    </tr>\n",
       "    <tr>\n",
       "      <th>3</th>\n",
       "      <td>29</td>\n",
       "      <td>2</td>\n",
       "      <td>1</td>\n",
       "      <td>2</td>\n",
       "      <td>2</td>\n",
       "      <td>1</td>\n",
       "      <td>13</td>\n",
       "      <td>6</td>\n",
       "      <td>1</td>\n",
       "      <td>3</td>\n",
       "      <td>...</td>\n",
       "      <td>1</td>\n",
       "      <td>3</td>\n",
       "      <td>1</td>\n",
       "      <td>3</td>\n",
       "      <td>53</td>\n",
       "      <td>True</td>\n",
       "      <td>True</td>\n",
       "      <td>1</td>\n",
       "      <td>0</td>\n",
       "      <td>10</td>\n",
       "    </tr>\n",
       "    <tr>\n",
       "      <th>4</th>\n",
       "      <td>33</td>\n",
       "      <td>2</td>\n",
       "      <td>1</td>\n",
       "      <td>3</td>\n",
       "      <td>1</td>\n",
       "      <td>1</td>\n",
       "      <td>8</td>\n",
       "      <td>6</td>\n",
       "      <td>1</td>\n",
       "      <td>3</td>\n",
       "      <td>...</td>\n",
       "      <td>10</td>\n",
       "      <td>3</td>\n",
       "      <td>1</td>\n",
       "      <td>2</td>\n",
       "      <td>23</td>\n",
       "      <td>False</td>\n",
       "      <td>False</td>\n",
       "      <td>3</td>\n",
       "      <td>1</td>\n",
       "      <td>4</td>\n",
       "    </tr>\n",
       "  </tbody>\n",
       "</table>\n",
       "<p>5 rows × 25 columns</p>\n",
       "</div>"
      ],
      "text/plain": [
       "   Age  Gender  Income_Level  Marital_Status  Education_Level  Occupation  \\\n",
       "0   22       2             1               1                0           1   \n",
       "1   49       5             0               1                1           0   \n",
       "2   24       2             1               2                2           0   \n",
       "3   29       2             1               2                2           1   \n",
       "4   33       2             1               3                1           1   \n",
       "\n",
       "   Purchase_Category  Frequency_of_Purchase  Purchase_Channel  Brand_Loyalty  \\\n",
       "0                  9                      4                 1              5   \n",
       "1                  7                     11                 0              3   \n",
       "2                 18                      2                 1              5   \n",
       "3                 13                      6                 1              3   \n",
       "4                  8                      6                 1              3   \n",
       "\n",
       "   ...  Customer_Satisfaction  Engagement_with_Ads  Device_Used_for_Shopping  \\\n",
       "0  ...                      7                    3                         2   \n",
       "1  ...                      5                    0                         2   \n",
       "2  ...                      7                    1                         1   \n",
       "3  ...                      1                    3                         1   \n",
       "4  ...                     10                    3                         1   \n",
       "\n",
       "   Payment_Method  Time_of_Purchase  Discount_Used  \\\n",
       "0               1               142           True   \n",
       "1               4               179           True   \n",
       "2               2               148           True   \n",
       "3               3                53           True   \n",
       "4               2                23          False   \n",
       "\n",
       "   Customer_Loyalty_Program_Member  Purchase_Intent  Shipping_Preference  \\\n",
       "0                            False                1                    1   \n",
       "1                            False                3                    2   \n",
       "2                             True                0                    1   \n",
       "3                             True                1                    0   \n",
       "4                            False                3                    1   \n",
       "\n",
       "   Time_to_Decision  \n",
       "0                 2  \n",
       "1                 6  \n",
       "2                 3  \n",
       "3                10  \n",
       "4                 4  \n",
       "\n",
       "[5 rows x 25 columns]"
      ]
     },
     "execution_count": 287,
     "metadata": {},
     "output_type": "execute_result"
    }
   ],
   "source": [
    "X.head()"
   ]
  },
  {
   "cell_type": "code",
   "execution_count": null,
   "id": "5b2af2cd-5636-4a20-ae92-31a1b7dc5d32",
   "metadata": {},
   "outputs": [],
   "source": [
    "# Scaling via MinMaxScaler, a better fit since data does not follow normal distribution"
   ]
  },
  {
   "cell_type": "code",
   "execution_count": 288,
   "id": "77ec711e-9ba2-4d70-bcb7-4ac1e96ca808",
   "metadata": {},
   "outputs": [],
   "source": [
    "scaler = MinMaxScaler()\n",
    "X_scaled = scaler.fit_transform(X)\n",
    "X_scaled_df = pd.DataFrame(X_scaled, columns=X.columns)\n"
   ]
  },
  {
   "cell_type": "code",
   "execution_count": null,
   "id": "436a0dbd-8021-4f67-a008-ef54d9f9bf83",
   "metadata": {},
   "outputs": [],
   "source": [
    "# Not gonna tweak the regressor, let's just see how it performs as is"
   ]
  },
  {
   "cell_type": "code",
   "execution_count": 289,
   "id": "0abd34fd-aa6f-41ca-a931-9376de62e731",
   "metadata": {},
   "outputs": [],
   "source": [
    "X_train, X_test, y_train, y_test = train_test_split(X_scaled_df, y, test_size=0.2, random_state=42)\n",
    "rf_regressor = RandomForestRegressor(n_estimators=100, random_state=42)\n",
    "rf_regressor.fit(X_train, y_train)\n",
    "y_pred = rf_regressor.predict(X_test)"
   ]
  },
  {
   "cell_type": "code",
   "execution_count": null,
   "id": "5fdf5cf2-ca18-4343-ae27-5605c422137f",
   "metadata": {},
   "outputs": [],
   "source": [
    "# Three different evaluation metrics to gauge performance"
   ]
  },
  {
   "cell_type": "code",
   "execution_count": 290,
   "id": "4e51f18e-a686-4ecd-b92b-ecfc596ed639",
   "metadata": {},
   "outputs": [
    {
     "name": "stdout",
     "output_type": "stream",
     "text": [
      "Mean Squared Error: 18364.17828060055\n",
      "Mean Absolute Error: 117.58448449999997\n",
      "R-squared: -0.05459230916216806\n"
     ]
    }
   ],
   "source": [
    "mse = mean_squared_error(y_test, y_pred)\n",
    "mae = mean_absolute_error(y_test, y_pred)\n",
    "r2 = r2_score(y_test, y_pred)\n",
    "\n",
    "print(f\"Mean Squared Error: {mse}\")\n",
    "print(f\"Mean Absolute Error: {mae}\")\n",
    "print(f\"R-squared: {r2}\")"
   ]
  },
  {
   "cell_type": "code",
   "execution_count": null,
   "id": "f39b36df-1ecf-4e59-83ae-aa7ed1847a2e",
   "metadata": {},
   "outputs": [],
   "source": [
    "# By all three metrics Random Forest Regressor performed attrociously poor"
   ]
  },
  {
   "cell_type": "code",
   "execution_count": null,
   "id": "d2db48a4-d44f-439d-8686-8bd854002616",
   "metadata": {},
   "outputs": [],
   "source": [
    "# The analysis of importance by each feature only confirms the above"
   ]
  },
  {
   "cell_type": "code",
   "execution_count": 291,
   "id": "acaae0f7-f39a-408f-814f-2c732773e90c",
   "metadata": {},
   "outputs": [
    {
     "name": "stdout",
     "output_type": "stream",
     "text": [
      "\n",
      "Feature Importance:\n",
      "                                  Feature  Importance\n",
      "19                       Time_of_Purchase    0.121516\n",
      "0                                     Age    0.094137\n",
      "6                       Purchase_Category    0.087517\n",
      "24                       Time_to_Decision    0.073034\n",
      "7                   Frequency_of_Purchase    0.057996\n",
      "15                  Customer_Satisfaction    0.051999\n",
      "18                         Payment_Method    0.043592\n",
      "9                           Brand_Loyalty    0.041151\n",
      "10                         Product_Rating    0.040460\n",
      "22                        Purchase_Intent    0.038130\n",
      "3                          Marital_Status    0.031440\n",
      "12                 Social_Media_Influence    0.030026\n",
      "16                    Engagement_with_Ads    0.028207\n",
      "1                                  Gender    0.027487\n",
      "8                        Purchase_Channel    0.026573\n",
      "4                         Education_Level    0.026315\n",
      "11  Time_Spent_on_Product_Research(hours)    0.025868\n",
      "17               Device_Used_for_Shopping    0.024636\n",
      "13                   Discount_Sensitivity    0.024518\n",
      "23                    Shipping_Preference    0.024233\n",
      "14                            Return_Rate    0.023960\n",
      "21        Customer_Loyalty_Program_Member    0.016397\n",
      "20                          Discount_Used    0.015469\n",
      "5                              Occupation    0.014077\n",
      "2                            Income_Level    0.011264\n"
     ]
    }
   ],
   "source": [
    "feature_importance = rf_regressor.feature_importances_\n",
    "feature_importance_df = pd.DataFrame({'Feature': X.columns, 'Importance': feature_importance})\n",
    "feature_importance_df = feature_importance_df.sort_values(by='Importance', ascending=False)\n",
    "print(\"\\nFeature Importance:\")\n",
    "print(feature_importance_df)"
   ]
  },
  {
   "cell_type": "code",
   "execution_count": null,
   "id": "bce13778-27d7-4c25-91ba-3ce3dab3f493",
   "metadata": {},
   "outputs": [],
   "source": [
    "# Since Random Forest Regressor performed so poorly, let's try XGBoost, with two objectives for comparison"
   ]
  },
  {
   "cell_type": "code",
   "execution_count": 297,
   "id": "b9c99d0f-409c-42bc-8d88-5b1946e9a348",
   "metadata": {},
   "outputs": [],
   "source": [
    "def xgb_regressors():\n",
    "    objectives = ['reg:absoluteerror', 'reg:squarederror']\n",
    "    for objective in objectives:\n",
    "        xgb_regressor = xgb.XGBRegressor(objective=objective, random_state=42)\n",
    "        xgb_regressor.fit(X_train, y_train)\n",
    "        y_pred = xgb_regressor.predict(X_test)\n",
    "        if objective == 'reg:absoluteerror':\n",
    "            mae = mean_absolute_error(y_test, y_pred)\n",
    "            r2 = r2_score(y_test, y_pred)\n",
    "            print(f\"XGBoost Mean Absolute Error: {mae}\")\n",
    "            print(f\"XGBoost R-squared for MAE: {r2}\")\n",
    "        elif objective == 'reg:squarederror':\n",
    "            mse = mean_squared_error(y_test, y_pred)\n",
    "            r2 = r2_score(y_test, y_pred)\n",
    "            print(f\"XGBoost Mean Squared Error: {mse}\")\n",
    "            print(f\"XGBoost R-squared for MSE: {r2}\")\n",
    "\n",
    "        feature_importance = xgb_regressor.feature_importances_\n",
    "        feature_importance_df = pd.DataFrame({'Feature': X.columns, 'Importance': feature_importance})\n",
    "        feature_importance_df = feature_importance_df.sort_values(by='Importance', ascending=False)\n",
    "        print(f\"\\nXGBoost Feature Importance ({objective}):\")\n",
    "        print(f\"{feature_importance_df} \\n\")\n",
    "    "
   ]
  },
  {
   "cell_type": "code",
   "execution_count": 298,
   "id": "1c125266-fe0e-43d4-aaff-71dd59c92aa3",
   "metadata": {},
   "outputs": [
    {
     "name": "stdout",
     "output_type": "stream",
     "text": [
      "XGBoost Mean Absolute Error: 127.44496607208252\n",
      "XGBoost R-squared for MAE: -0.28853674343969105\n",
      "\n",
      "XGBoost Feature Importance (reg:absoluteerror):\n",
      "                                  Feature  Importance\n",
      "17               Device_Used_for_Shopping    0.044401\n",
      "21        Customer_Loyalty_Program_Member    0.043024\n",
      "19                       Time_of_Purchase    0.042658\n",
      "18                         Payment_Method    0.042314\n",
      "22                        Purchase_Intent    0.041968\n",
      "23                    Shipping_Preference    0.041851\n",
      "20                          Discount_Used    0.041804\n",
      "24                       Time_to_Decision    0.041716\n",
      "16                    Engagement_with_Ads    0.041690\n",
      "8                        Purchase_Channel    0.041606\n",
      "15                  Customer_Satisfaction    0.041330\n",
      "9                           Brand_Loyalty    0.041023\n",
      "7                   Frequency_of_Purchase    0.040085\n",
      "6                       Purchase_Category    0.039652\n",
      "10                         Product_Rating    0.039596\n",
      "12                 Social_Media_Influence    0.039533\n",
      "13                   Discount_Sensitivity    0.039398\n",
      "11  Time_Spent_on_Product_Research(hours)    0.038650\n",
      "14                            Return_Rate    0.038606\n",
      "4                         Education_Level    0.038131\n",
      "5                              Occupation    0.037935\n",
      "2                            Income_Level    0.037152\n",
      "3                          Marital_Status    0.036016\n",
      "1                                  Gender    0.035585\n",
      "0                                     Age    0.034276 \n",
      "\n",
      "XGBoost Mean Squared Error: 22795.45263285284\n",
      "XGBoost R-squared for MSE: -0.30906532615577165\n",
      "\n",
      "XGBoost Feature Importance (reg:squarederror):\n",
      "                                  Feature  Importance\n",
      "21        Customer_Loyalty_Program_Member    0.069991\n",
      "22                        Purchase_Intent    0.056243\n",
      "23                    Shipping_Preference    0.050831\n",
      "10                         Product_Rating    0.050137\n",
      "24                       Time_to_Decision    0.044916\n",
      "6                       Purchase_Category    0.044788\n",
      "1                                  Gender    0.044281\n",
      "13                   Discount_Sensitivity    0.043436\n",
      "12                 Social_Media_Influence    0.042751\n",
      "18                         Payment_Method    0.042253\n",
      "19                       Time_of_Purchase    0.042047\n",
      "16                    Engagement_with_Ads    0.039199\n",
      "17               Device_Used_for_Shopping    0.038350\n",
      "9                           Brand_Loyalty    0.037201\n",
      "14                            Return_Rate    0.037183\n",
      "4                         Education_Level    0.036552\n",
      "11  Time_Spent_on_Product_Research(hours)    0.036529\n",
      "7                   Frequency_of_Purchase    0.035998\n",
      "0                                     Age    0.035889\n",
      "8                        Purchase_Channel    0.035043\n",
      "15                  Customer_Satisfaction    0.029961\n",
      "20                          Discount_Used    0.029161\n",
      "5                              Occupation    0.029111\n",
      "3                          Marital_Status    0.024122\n",
      "2                            Income_Level    0.024026 \n",
      "\n"
     ]
    }
   ],
   "source": [
    "xgb_regressors()"
   ]
  },
  {
   "cell_type": "code",
   "execution_count": null,
   "id": "2690ab4a-0925-4c89-80f5-67a2887b8b51",
   "metadata": {},
   "outputs": [],
   "source": [
    "# XGBoost performed even worse by every parameter"
   ]
  },
  {
   "cell_type": "code",
   "execution_count": null,
   "id": "4056b79e-2b61-48a1-99fa-8530f0b34d5a",
   "metadata": {},
   "outputs": [],
   "source": [
    "# Given the nature of our dataset, it does not make sense to use a simple Linear Regression, but let's do it anyway and see what happens"
   ]
  },
  {
   "cell_type": "code",
   "execution_count": 299,
   "id": "4983fc1a-e6db-4936-afcc-2d96af700f84",
   "metadata": {},
   "outputs": [],
   "source": [
    "linear_regressor = LinearRegression()\n",
    "linear_regressor.fit(X_train, y_train)\n",
    "y_pred = linear_regressor.predict(X_test)"
   ]
  },
  {
   "cell_type": "code",
   "execution_count": 300,
   "id": "b926eff7-6623-4472-98b8-2852c0beb419",
   "metadata": {},
   "outputs": [
    {
     "name": "stdout",
     "output_type": "stream",
     "text": [
      "Linear Regression Mean Squared Error: 16984.584655634913\n",
      "Linear Regression Mean Absolute Error: 112.90340056326299\n",
      "Linear Regression R-squared: 0.0246330612533896\n"
     ]
    }
   ],
   "source": [
    "mse = mean_squared_error(y_test, y_pred)\n",
    "mae = mean_absolute_error(y_test, y_pred)\n",
    "r2 = r2_score(y_test, y_pred)\n",
    "\n",
    "print(f\"Linear Regression Mean Squared Error: {mse}\")\n",
    "print(f\"Linear Regression Mean Absolute Error: {mae}\")\n",
    "print(f\"Linear Regression R-squared: {r2}\")"
   ]
  },
  {
   "cell_type": "code",
   "execution_count": 301,
   "id": "0041c642-0629-4893-97ad-baf58450a20d",
   "metadata": {},
   "outputs": [
    {
     "name": "stdout",
     "output_type": "stream",
     "text": [
      "\n",
      "Coefficients:\n",
      "                                  Feature  Coefficient\n",
      "0                                     Age    -5.479947\n",
      "1                                  Gender    -4.122651\n",
      "2                            Income_Level    -4.562449\n",
      "3                          Marital_Status    -3.662490\n",
      "4                         Education_Level   -10.071729\n",
      "5                              Occupation     3.427130\n",
      "6                       Purchase_Category    38.928611\n",
      "7                   Frequency_of_Purchase     1.128298\n",
      "8                        Purchase_Channel    -2.394122\n",
      "9                           Brand_Loyalty   -33.725865\n",
      "10                         Product_Rating     2.863243\n",
      "11  Time_Spent_on_Product_Research(hours)    -1.991528\n",
      "12                 Social_Media_Influence   -15.804077\n",
      "13                   Discount_Sensitivity    -0.772061\n",
      "14                            Return_Rate    -8.475130\n",
      "15                  Customer_Satisfaction    -8.030131\n",
      "16                    Engagement_with_Ads    -6.100606\n",
      "17               Device_Used_for_Shopping    16.943262\n",
      "18                         Payment_Method    14.775129\n",
      "19                       Time_of_Purchase     8.470884\n",
      "20                          Discount_Used    -8.811549\n",
      "21        Customer_Loyalty_Program_Member   -18.941556\n",
      "22                        Purchase_Intent    26.090280\n",
      "23                    Shipping_Preference   -14.013164\n",
      "24                       Time_to_Decision     1.239607\n",
      "\n",
      "Intercept: 289.50223400425097\n"
     ]
    }
   ],
   "source": [
    "coefficients = pd.DataFrame({'Feature': X.columns, 'Coefficient': linear_regressor.coef_})\n",
    "print(\"\\nCoefficients:\")\n",
    "print(coefficients)\n",
    "intercept = linear_regressor.intercept_\n",
    "print(f'\\nIntercept: {intercept}')"
   ]
  },
  {
   "cell_type": "code",
   "execution_count": null,
   "id": "c9f77240-6644-4d18-a4e5-6b1701f31379",
   "metadata": {},
   "outputs": [],
   "source": [
    "# Performs also attrociously poor, as expected"
   ]
  },
  {
   "cell_type": "code",
   "execution_count": null,
   "id": "78b2de65-193b-4071-92c0-c045d3db6355",
   "metadata": {},
   "outputs": [],
   "source": [
    "# Let's add some cross-validation to see whether or not the algos are under or overfitting the data"
   ]
  },
  {
   "cell_type": "code",
   "execution_count": 305,
   "id": "9c108496-04db-40ee-97e3-1e36638809c5",
   "metadata": {},
   "outputs": [
    {
     "name": "stdout",
     "output_type": "stream",
     "text": [
      "Random Forest Results:\n",
      "{'fit_time': array([0.70358396, 0.70027089, 0.7088306 , 0.6752367 , 0.70825338]), 'score_time': array([0.01478052, 0.0164392 , 0.0131731 , 0.01372623, 0.01305747]), 'test_r2': array([-0.07223301, -0.02481493, -0.02334678, -0.05963702, -0.06486659]), 'train_r2': array([0.85367352, 0.85367652, 0.85181778, 0.8547496 , 0.85864592]), 'test_neg_mean_squared_error': array([-18671.36515454, -17684.62415412, -17608.75622057, -17168.44754196,\n",
      "       -19251.70719216]), 'train_neg_mean_squared_error': array([-2522.24678109, -2529.99264591, -2562.89091294, -2549.55737318,\n",
      "       -2406.69298156])}\n",
      "XGBoost Results:\n",
      "{'fit_time': array([0.12535071, 0.13246012, 0.17073607, 0.13064885, 0.13112879]), 'score_time': array([0.0110805 , 0.00976062, 0.0108614 , 0.01093364, 0.01089478]), 'test_r2': array([-0.28853674, -0.24106863, -0.27743781, -0.23479843, -0.18761284]), 'train_r2': array([0.90488356, 0.91547077, 0.91169729, 0.90668461, 0.90275872]), 'test_neg_mean_squared_error': array([-22437.97747438, -21416.38612465, -21980.90757389, -20006.44705533,\n",
      "       -21470.83477411]), 'train_neg_mean_squared_error': array([-1639.53327058, -1461.54479472, -1527.24277137, -1637.95043723,\n",
      "       -1655.62897252])}\n",
      "Linear Regression Results:\n",
      "{'fit_time': array([0.00803971, 0.00754833, 0.0077219 , 0.00757647, 0.00757098]), 'score_time': array([0.00516629, 0.0049634 , 0.0049262 , 0.00490832, 0.00489235]), 'test_r2': array([ 0.02463306, -0.03079501,  0.01111888, -0.08106331, -0.06173294]), 'train_r2': array([0.03830354, 0.04812116, 0.04152919, 0.05529346, 0.05630033]), 'test_neg_mean_squared_error': array([-16984.58465563, -17787.81869789, -17015.70469117, -17515.60039463,\n",
      "       -19195.05400742]), 'train_neg_mean_squared_error': array([-16576.87490798, -16458.37358492, -16577.26667039, -16582.28520512,\n",
      "       -16067.42037802])}\n"
     ]
    }
   ],
   "source": [
    "cv = KFold(n_splits=5, shuffle=True, random_state=42)  # 5-fold cross-validation\n",
    "rf_results = cross_validate(rf_regressor, X, y, cv=cv, scoring=['r2', 'neg_mean_squared_error'], return_train_score=True)\n",
    "xgb_results = cross_validate(xgb_regressor, X, y, cv=cv, scoring=['r2', 'neg_mean_squared_error'], return_train_score=True)\n",
    "linear_results = cross_validate(linear_regressor, X, y, cv=cv, scoring=['r2', 'neg_mean_squared_error'], return_train_score=True)\n",
    "\n",
    "print(\"Random Forest Results:\")\n",
    "print(rf_results)\n",
    "print(\"XGBoost Results:\")\n",
    "print(xgb_results)\n",
    "print(\"Linear Regression Results:\")\n",
    "print(linear_results)"
   ]
  },
  {
   "cell_type": "code",
   "execution_count": null,
   "id": "ef93a588-9bf5-4315-9601-01b7de0269a8",
   "metadata": {},
   "outputs": [],
   "source": [
    "# Random Forest and XGBoost are clearly overfitting. Linear Regression never made sense in first place"
   ]
  },
  {
   "cell_type": "code",
   "execution_count": null,
   "id": "83b3867f-29ef-4a28-9b0d-c68026036e0d",
   "metadata": {},
   "outputs": [],
   "source": [
    "# Let's try some regularization on Random Forest and see what happens. Using Grid Search to fine-tune hyperparameters"
   ]
  },
  {
   "cell_type": "code",
   "execution_count": 307,
   "id": "82800e30-492a-40b8-a15e-0851dd30611b",
   "metadata": {},
   "outputs": [
    {
     "name": "stdout",
     "output_type": "stream",
     "text": [
      "Best Hyperparameters: {'max_depth': 3, 'max_features': 'log2', 'min_samples_leaf': 5, 'min_samples_split': 5}\n",
      "Best R-squared: -0.0037849767707553773\n"
     ]
    }
   ],
   "source": [
    "param_grid = {\n",
    "    'max_depth': [3, 5, 10],\n",
    "    'min_samples_split': [5, 10, 20],\n",
    "    'min_samples_leaf': [2, 5, 10],\n",
    "    'max_features': ['sqrt', 'log2']\n",
    "}\n",
    "\n",
    "grid_search = GridSearchCV(rf_regressor, param_grid, cv=cv, scoring='r2', n_jobs=-1)\n",
    "grid_search.fit(X, y)\n",
    "\n",
    "print(\"Best Hyperparameters:\", grid_search.best_params_)\n",
    "print(\"Best R-squared:\", grid_search.best_score_)\n",
    "\n",
    "best_rf = grid_search.best_estimator_"
   ]
  },
  {
   "cell_type": "code",
   "execution_count": null,
   "id": "b245d561-b864-4fbb-bad6-68fc6fd8dca9",
   "metadata": {},
   "outputs": [],
   "source": [
    "# Still horrible. The problem is clearly with the dataset itself, see how the tree does not even"
   ]
  },
  {
   "cell_type": "code",
   "execution_count": null,
   "id": "902e3339-164a-4230-b3ac-f3f8833db02e",
   "metadata": {},
   "outputs": [],
   "source": [
    "# want to go much deep into it, nor wants to gather many samples per node."
   ]
  },
  {
   "cell_type": "code",
   "execution_count": null,
   "id": "d6dba998-e883-4280-a989-870d4c32e054",
   "metadata": {},
   "outputs": [],
   "source": [
    "# No wonder, since it's all made up data!"
   ]
  }
 ],
 "metadata": {
  "kernelspec": {
   "display_name": "Python 3 (ipykernel)",
   "language": "python",
   "name": "python3"
  },
  "language_info": {
   "codemirror_mode": {
    "name": "ipython",
    "version": 3
   },
   "file_extension": ".py",
   "mimetype": "text/x-python",
   "name": "python",
   "nbconvert_exporter": "python",
   "pygments_lexer": "ipython3",
   "version": "3.13.2"
  }
 },
 "nbformat": 4,
 "nbformat_minor": 5
}
